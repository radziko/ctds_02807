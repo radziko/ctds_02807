{
 "cells": [
  {
   "cell_type": "code",
   "execution_count": 8,
   "metadata": {},
   "outputs": [],
   "source": [
    "#!pip install kagglehub\n",
    "import kagglehub\n",
    "import os\n",
    "import shutil\n",
    "from urllib.request import urlretrieve\n",
    "import numpy as np\n",
    "import pandas as pd\n",
    "from tqdm.notebook import tqdm\n",
    "import pickle\n",
    "\n",
    "#from datasketch import MinHash, MinHashLSH\n"
   ]
  },
  {
   "cell_type": "code",
   "execution_count": 9,
   "metadata": {},
   "outputs": [
    {
     "name": "stderr",
     "output_type": "stream",
     "text": [
      "/tmp/pbs.470611.hnode41/ipykernel_3272744/683732697.py:15: DtypeWarning: Columns (7,8) have mixed types. Specify dtype option on import or set low_memory=False.\n",
      "  imdb = pd.read_csv('data/imdb/movies.csv')\n"
     ]
    }
   ],
   "source": [
    "def load_data():\n",
    "    # Contains movieId, title, genres   \n",
    "    ml_movies = pd.read_csv('data/ml-32m/movies.csv')\n",
    "    \n",
    "    # Contains userId, movieId, rating, timestamp\n",
    "    ml_ratings = pd.read_csv('data/ml-32m/ratings.csv')\n",
    "    \n",
    "    # Contains userId, movieId, tag, timestamp\n",
    "    ml_tags = pd.read_csv('data/ml-32m/tags.csv')\n",
    "\n",
    "    # Contains movieId, imdbId, tmdbId\n",
    "    ml_links = pd.read_csv('data/ml-32m/links.csv')\n",
    "\n",
    "    # IMDB Dataset:\n",
    "    imdb = pd.read_csv('data/imdb/movies.csv')\n",
    "\n",
    "    return ml_movies, ml_ratings, ml_tags, ml_links, imdb\n",
    "\n",
    "ml_movies, ml_ratings, ml_tags, ml_links, imdb = load_data()"
   ]
  },
  {
   "cell_type": "code",
   "execution_count": 10,
   "metadata": {},
   "outputs": [
    {
     "name": "stderr",
     "output_type": "stream",
     "text": [
      "/tmp/pbs.470611.hnode41/ipykernel_3272744/493108502.py:6: SettingWithCopyWarning: \n",
      "A value is trying to be set on a copy of a slice from a DataFrame.\n",
      "Try using .loc[row_indexer,col_indexer] = value instead\n",
      "\n",
      "See the caveats in the documentation: https://pandas.pydata.org/pandas-docs/stable/user_guide/indexing.html#returning-a-view-versus-a-copy\n",
      "  imdb_descriptions['id'] = imdb_descriptions['id'].str[2:]\n",
      "/tmp/pbs.470611.hnode41/ipykernel_3272744/493108502.py:7: SettingWithCopyWarning: \n",
      "A value is trying to be set on a copy of a slice from a DataFrame.\n",
      "Try using .loc[row_indexer,col_indexer] = value instead\n",
      "\n",
      "See the caveats in the documentation: https://pandas.pydata.org/pandas-docs/stable/user_guide/indexing.html#returning-a-view-versus-a-copy\n",
      "  imdb_descriptions['id'] = pd.to_numeric(imdb_descriptions['id'], errors='coerce')\n"
     ]
    }
   ],
   "source": [
    "# Preprocessing IMDB:\n",
    "\n",
    "#drop if description is \"Add a plot\" because we have no description then\n",
    "imdb_descriptions = imdb[imdb['description'] != \"Add a Plot\"]\n",
    "\n",
    "imdb_descriptions['id'] = imdb_descriptions['id'].str[2:]\n",
    "imdb_descriptions['id'] = pd.to_numeric(imdb_descriptions['id'], errors='coerce')\n",
    "\n",
    "#keep what we need\n",
    "imdb_descriptions = imdb_descriptions[['id', 'description']]\n",
    "\n",
    "#merge them, so we have a li nk between the two datasets\n",
    "merged_links = ml_links.merge(imdb_descriptions, left_on='imdbId', right_on='id', how='inner').dropna(subset=['id'])"
   ]
  },
  {
   "cell_type": "code",
   "execution_count": 11,
   "metadata": {},
   "outputs": [
    {
     "data": {
      "text/html": [
       "<div>\n",
       "<style scoped>\n",
       "    .dataframe tbody tr th:only-of-type {\n",
       "        vertical-align: middle;\n",
       "    }\n",
       "\n",
       "    .dataframe tbody tr th {\n",
       "        vertical-align: top;\n",
       "    }\n",
       "\n",
       "    .dataframe thead th {\n",
       "        text-align: right;\n",
       "    }\n",
       "</style>\n",
       "<table border=\"1\" class=\"dataframe\">\n",
       "  <thead>\n",
       "    <tr style=\"text-align: right;\">\n",
       "      <th></th>\n",
       "      <th>movieId</th>\n",
       "      <th>title</th>\n",
       "      <th>genres</th>\n",
       "      <th>imdbId</th>\n",
       "      <th>tmdbId</th>\n",
       "      <th>id</th>\n",
       "      <th>description</th>\n",
       "    </tr>\n",
       "  </thead>\n",
       "  <tbody>\n",
       "    <tr>\n",
       "      <th>0</th>\n",
       "      <td>1</td>\n",
       "      <td>Toy Story (1995)</td>\n",
       "      <td>Adventure|Animation|Children|Comedy|Fantasy</td>\n",
       "      <td>114709</td>\n",
       "      <td>862.0</td>\n",
       "      <td>114709</td>\n",
       "      <td>A cowboy doll is profoundly threatened and jea...</td>\n",
       "    </tr>\n",
       "    <tr>\n",
       "      <th>1</th>\n",
       "      <td>2</td>\n",
       "      <td>Jumanji (1995)</td>\n",
       "      <td>Adventure|Children|Fantasy</td>\n",
       "      <td>113497</td>\n",
       "      <td>8844.0</td>\n",
       "      <td>113497</td>\n",
       "      <td>When two kids find and play a magical board ga...</td>\n",
       "    </tr>\n",
       "    <tr>\n",
       "      <th>2</th>\n",
       "      <td>6</td>\n",
       "      <td>Heat (1995)</td>\n",
       "      <td>Action|Crime|Thriller</td>\n",
       "      <td>113277</td>\n",
       "      <td>949.0</td>\n",
       "      <td>113277</td>\n",
       "      <td>A group of high-end professional thieves start...</td>\n",
       "    </tr>\n",
       "    <tr>\n",
       "      <th>3</th>\n",
       "      <td>8</td>\n",
       "      <td>Tom and Huck (1995)</td>\n",
       "      <td>Adventure|Children</td>\n",
       "      <td>112302</td>\n",
       "      <td>45325.0</td>\n",
       "      <td>112302</td>\n",
       "      <td>Two best friends witness a murder and embark o...</td>\n",
       "    </tr>\n",
       "    <tr>\n",
       "      <th>4</th>\n",
       "      <td>9</td>\n",
       "      <td>Sudden Death (1995)</td>\n",
       "      <td>Action</td>\n",
       "      <td>114576</td>\n",
       "      <td>9091.0</td>\n",
       "      <td>114576</td>\n",
       "      <td>A former fireman takes on a group of terrorist...</td>\n",
       "    </tr>\n",
       "    <tr>\n",
       "      <th>...</th>\n",
       "      <td>...</td>\n",
       "      <td>...</td>\n",
       "      <td>...</td>\n",
       "      <td>...</td>\n",
       "      <td>...</td>\n",
       "      <td>...</td>\n",
       "      <td>...</td>\n",
       "    </tr>\n",
       "    <tr>\n",
       "      <th>51855</th>\n",
       "      <td>292541</td>\n",
       "      <td>The Settlers (2023)</td>\n",
       "      <td>Drama|Western</td>\n",
       "      <td>10370812</td>\n",
       "      <td>989589.0</td>\n",
       "      <td>10370812</td>\n",
       "      <td>A mixed-race Chilean, rides south on an expedi...</td>\n",
       "    </tr>\n",
       "    <tr>\n",
       "      <th>51856</th>\n",
       "      <td>292585</td>\n",
       "      <td>Night Crawlers (2009)</td>\n",
       "      <td>Comedy|Horror</td>\n",
       "      <td>985060</td>\n",
       "      <td>147230.0</td>\n",
       "      <td>985060</td>\n",
       "      <td>Blood is thicker than water in this tiny Texas...</td>\n",
       "    </tr>\n",
       "    <tr>\n",
       "      <th>51857</th>\n",
       "      <td>292605</td>\n",
       "      <td>Our River... Our Sky (2023)</td>\n",
       "      <td>Drama|War</td>\n",
       "      <td>10676126</td>\n",
       "      <td>855800.0</td>\n",
       "      <td>10676126</td>\n",
       "      <td>Baghdad. The last week of 2006. All over the c...</td>\n",
       "    </tr>\n",
       "    <tr>\n",
       "      <th>51858</th>\n",
       "      <td>292613</td>\n",
       "      <td>Freelance (2023)</td>\n",
       "      <td>Action|Comedy</td>\n",
       "      <td>15744298</td>\n",
       "      <td>897087.0</td>\n",
       "      <td>15744298</td>\n",
       "      <td>An ex special forces operator takes a job to p...</td>\n",
       "    </tr>\n",
       "    <tr>\n",
       "      <th>51859</th>\n",
       "      <td>292627</td>\n",
       "      <td>All Fun and Games (2023)</td>\n",
       "      <td>Horror|Thriller</td>\n",
       "      <td>10092698</td>\n",
       "      <td>926599.0</td>\n",
       "      <td>10092698</td>\n",
       "      <td>There's a strange element of cruelty that's em...</td>\n",
       "    </tr>\n",
       "  </tbody>\n",
       "</table>\n",
       "<p>51860 rows × 7 columns</p>\n",
       "</div>"
      ],
      "text/plain": [
       "       movieId                        title  \\\n",
       "0            1             Toy Story (1995)   \n",
       "1            2               Jumanji (1995)   \n",
       "2            6                  Heat (1995)   \n",
       "3            8          Tom and Huck (1995)   \n",
       "4            9          Sudden Death (1995)   \n",
       "...        ...                          ...   \n",
       "51855   292541          The Settlers (2023)   \n",
       "51856   292585        Night Crawlers (2009)   \n",
       "51857   292605  Our River... Our Sky (2023)   \n",
       "51858   292613             Freelance (2023)   \n",
       "51859   292627     All Fun and Games (2023)   \n",
       "\n",
       "                                            genres    imdbId    tmdbId  \\\n",
       "0      Adventure|Animation|Children|Comedy|Fantasy    114709     862.0   \n",
       "1                       Adventure|Children|Fantasy    113497    8844.0   \n",
       "2                            Action|Crime|Thriller    113277     949.0   \n",
       "3                               Adventure|Children    112302   45325.0   \n",
       "4                                           Action    114576    9091.0   \n",
       "...                                            ...       ...       ...   \n",
       "51855                                Drama|Western  10370812  989589.0   \n",
       "51856                                Comedy|Horror    985060  147230.0   \n",
       "51857                                    Drama|War  10676126  855800.0   \n",
       "51858                                Action|Comedy  15744298  897087.0   \n",
       "51859                              Horror|Thriller  10092698  926599.0   \n",
       "\n",
       "             id                                        description  \n",
       "0        114709  A cowboy doll is profoundly threatened and jea...  \n",
       "1        113497  When two kids find and play a magical board ga...  \n",
       "2        113277  A group of high-end professional thieves start...  \n",
       "3        112302  Two best friends witness a murder and embark o...  \n",
       "4        114576  A former fireman takes on a group of terrorist...  \n",
       "...         ...                                                ...  \n",
       "51855  10370812  A mixed-race Chilean, rides south on an expedi...  \n",
       "51856    985060  Blood is thicker than water in this tiny Texas...  \n",
       "51857  10676126  Baghdad. The last week of 2006. All over the c...  \n",
       "51858  15744298  An ex special forces operator takes a job to p...  \n",
       "51859  10092698  There's a strange element of cruelty that's em...  \n",
       "\n",
       "[51860 rows x 7 columns]"
      ]
     },
     "execution_count": 11,
     "metadata": {},
     "output_type": "execute_result"
    }
   ],
   "source": [
    "#merge the movies with the descriptions if that is what we want\n",
    "ml_movies_description = ml_movies.merge(merged_links, left_on='movieId', right_on='movieId', how='inner')\n",
    "\n",
    "ml_movies_description\n",
    "#ml_movies_description.to_csv('data/movies_with_description.csv', index=False)"
   ]
  },
  {
   "cell_type": "markdown",
   "metadata": {},
   "source": [
    "## Tokenize for BERT and inspection of description length in dataset in terms of characters, words and tokenized data"
   ]
  },
  {
   "cell_type": "code",
   "execution_count": 9,
   "metadata": {},
   "outputs": [
    {
     "name": "stderr",
     "output_type": "stream",
     "text": [
      "  0%|          | 0/406 [00:00<?, ?it/s]"
     ]
    },
    {
     "name": "stderr",
     "output_type": "stream",
     "text": [
      "100%|██████████| 406/406 [01:12<00:00,  5.58it/s]\n"
     ]
    }
   ],
   "source": [
    "#run inpquts through the model in batches of 8 to avoid memory issues and also pass attention masks\n",
    "import torch\n",
    "from tqdm import tqdm\n",
    "outputs = []\n",
    "model = model.to(\"cuda\")\n",
    "inputs = inputs.to(\"cuda\")\n",
    "batch_size = 16\n",
    "#without saving gradients to avoid gpu memory issues/leaks\n",
    "# if outputs file exists, load it, else run the model\n",
    "if os.path.exists('data/outputs.pt'):\n",
    "    outputs = torch.load('data/outputs.pt')\n",
    "else:\n",
    "    with torch.no_grad():\n",
    "        for i in tqdm(range(0, len(inputs['input_ids'])//8, batch_size)):\n",
    "            batch = inputs['input_ids'][i:i+batch_size]\n",
    "            attention_mask = inputs['attention_mask'][i:i+batch_size]\n",
    "            output = model(batch, attention_mask=attention_mask).last_hidden_state\n",
    "            #output = model(batch, attention_mask=attention_mask)['logits']\n",
    "\n",
    "            #send the output to the cpu afterwards to avoid memory issues on the gpu\n",
    "            outputs.append(output.detach().cpu())\n",
    "\n",
    "    #make list of tensors into one tensor\n",
    "    outputs = torch.cat(outputs)\n",
    "    torch.save(outputs, 'data/outputs.pt')\n"
   ]
  },
  {
   "cell_type": "code",
   "execution_count": 63,
   "metadata": {},
   "outputs": [],
   "source": [
    "import numpy as np\n",
    "embeddings = np.load(\"/work3/s204161/embeddings.npy\")\n",
    "embeddings = embeddings.reshape(embeddings.shape[0],embeddings.shape[1]*embeddings.shape[2])\n"
   ]
  },
  {
   "cell_type": "code",
   "execution_count": 98,
   "metadata": {},
   "outputs": [
    {
     "name": "stderr",
     "output_type": "stream",
     "text": [
      "/work3/s204161/miniconda/lib/python3.10/site-packages/sklearn/cluster/_kmeans.py:870: FutureWarning: The default value of `n_init` will change from 3 to 'auto' in 1.4. Set the value of `n_init` explicitly to suppress the warning\n",
      "  warnings.warn(\n"
     ]
    },
    {
     "data": {
      "text/html": [
       "<style>#sk-container-id-2 {color: black;background-color: white;}#sk-container-id-2 pre{padding: 0;}#sk-container-id-2 div.sk-toggleable {background-color: white;}#sk-container-id-2 label.sk-toggleable__label {cursor: pointer;display: block;width: 100%;margin-bottom: 0;padding: 0.3em;box-sizing: border-box;text-align: center;}#sk-container-id-2 label.sk-toggleable__label-arrow:before {content: \"▸\";float: left;margin-right: 0.25em;color: #696969;}#sk-container-id-2 label.sk-toggleable__label-arrow:hover:before {color: black;}#sk-container-id-2 div.sk-estimator:hover label.sk-toggleable__label-arrow:before {color: black;}#sk-container-id-2 div.sk-toggleable__content {max-height: 0;max-width: 0;overflow: hidden;text-align: left;background-color: #f0f8ff;}#sk-container-id-2 div.sk-toggleable__content pre {margin: 0.2em;color: black;border-radius: 0.25em;background-color: #f0f8ff;}#sk-container-id-2 input.sk-toggleable__control:checked~div.sk-toggleable__content {max-height: 200px;max-width: 100%;overflow: auto;}#sk-container-id-2 input.sk-toggleable__control:checked~label.sk-toggleable__label-arrow:before {content: \"▾\";}#sk-container-id-2 div.sk-estimator input.sk-toggleable__control:checked~label.sk-toggleable__label {background-color: #d4ebff;}#sk-container-id-2 div.sk-label input.sk-toggleable__control:checked~label.sk-toggleable__label {background-color: #d4ebff;}#sk-container-id-2 input.sk-hidden--visually {border: 0;clip: rect(1px 1px 1px 1px);clip: rect(1px, 1px, 1px, 1px);height: 1px;margin: -1px;overflow: hidden;padding: 0;position: absolute;width: 1px;}#sk-container-id-2 div.sk-estimator {font-family: monospace;background-color: #f0f8ff;border: 1px dotted black;border-radius: 0.25em;box-sizing: border-box;margin-bottom: 0.5em;}#sk-container-id-2 div.sk-estimator:hover {background-color: #d4ebff;}#sk-container-id-2 div.sk-parallel-item::after {content: \"\";width: 100%;border-bottom: 1px solid gray;flex-grow: 1;}#sk-container-id-2 div.sk-label:hover label.sk-toggleable__label {background-color: #d4ebff;}#sk-container-id-2 div.sk-serial::before {content: \"\";position: absolute;border-left: 1px solid gray;box-sizing: border-box;top: 0;bottom: 0;left: 50%;z-index: 0;}#sk-container-id-2 div.sk-serial {display: flex;flex-direction: column;align-items: center;background-color: white;padding-right: 0.2em;padding-left: 0.2em;position: relative;}#sk-container-id-2 div.sk-item {position: relative;z-index: 1;}#sk-container-id-2 div.sk-parallel {display: flex;align-items: stretch;justify-content: center;background-color: white;position: relative;}#sk-container-id-2 div.sk-item::before, #sk-container-id-2 div.sk-parallel-item::before {content: \"\";position: absolute;border-left: 1px solid gray;box-sizing: border-box;top: 0;bottom: 0;left: 50%;z-index: -1;}#sk-container-id-2 div.sk-parallel-item {display: flex;flex-direction: column;z-index: 1;position: relative;background-color: white;}#sk-container-id-2 div.sk-parallel-item:first-child::after {align-self: flex-end;width: 50%;}#sk-container-id-2 div.sk-parallel-item:last-child::after {align-self: flex-start;width: 50%;}#sk-container-id-2 div.sk-parallel-item:only-child::after {width: 0;}#sk-container-id-2 div.sk-dashed-wrapped {border: 1px dashed gray;margin: 0 0.4em 0.5em 0.4em;box-sizing: border-box;padding-bottom: 0.4em;background-color: white;}#sk-container-id-2 div.sk-label label {font-family: monospace;font-weight: bold;display: inline-block;line-height: 1.2em;}#sk-container-id-2 div.sk-label-container {text-align: center;}#sk-container-id-2 div.sk-container {/* jupyter's `normalize.less` sets `[hidden] { display: none; }` but bootstrap.min.css set `[hidden] { display: none !important; }` so we also need the `!important` here to be able to override the default hidden behavior on the sphinx rendered scikit-learn.org. See: https://github.com/scikit-learn/scikit-learn/issues/21755 */display: inline-block !important;position: relative;}#sk-container-id-2 div.sk-text-repr-fallback {display: none;}</style><div id=\"sk-container-id-2\" class=\"sk-top-container\"><div class=\"sk-text-repr-fallback\"><pre>MiniBatchKMeans(batch_size=500, n_clusters=200, random_state=42)</pre><b>In a Jupyter environment, please rerun this cell to show the HTML representation or trust the notebook. <br />On GitHub, the HTML representation is unable to render, please try loading this page with nbviewer.org.</b></div><div class=\"sk-container\" hidden><div class=\"sk-item\"><div class=\"sk-estimator sk-toggleable\"><input class=\"sk-toggleable__control sk-hidden--visually\" id=\"sk-estimator-id-2\" type=\"checkbox\" checked><label for=\"sk-estimator-id-2\" class=\"sk-toggleable__label sk-toggleable__label-arrow\">MiniBatchKMeans</label><div class=\"sk-toggleable__content\"><pre>MiniBatchKMeans(batch_size=500, n_clusters=200, random_state=42)</pre></div></div></div></div></div>"
      ],
      "text/plain": [
       "MiniBatchKMeans(batch_size=500, n_clusters=200, random_state=42)"
      ]
     },
     "execution_count": 98,
     "metadata": {},
     "output_type": "execute_result"
    }
   ],
   "source": [
    "from sklearn.cluster import MiniBatchKMeans\n",
    "\n",
    "# dont standardize embeddings vector to have mean 0 and std 1 ... because for our hidden weights, some features ARE more important than others...\n",
    "# embeddings = embeddings - embeddings.mean(axis=0)\n",
    "# embeddings = embeddings / embeddings.std(axis=0)\n",
    "\n",
    "# Define MiniBatch K-Means\n",
    "mini_batch_kmeans = MiniBatchKMeans(n_clusters=200, batch_size=500, random_state=42)\n",
    "mini_batch_kmeans.fit(embeddings)\n",
    "\n",
    "# Get cluster labels\n",
    "import copy\n",
    "labels = copy.deepcopy(mini_batch_kmeans.labels_)\n",
    "centers = copy.deepcopy(mini_batch_kmeans.cluster_centers_)\n"
   ]
  },
  {
   "cell_type": "code",
   "execution_count": null,
   "metadata": {},
   "outputs": [
    {
     "name": "stderr",
     "output_type": "stream",
     "text": [
      "100%|██████████| 200/200 [00:17<00:00, 11.69it/s]\n"
     ]
    }
   ],
   "source": [
    "## for sparse clusters of length < 5 join them with neighbouring clusters\n",
    "# get the number of movies in each cluster\n",
    "unique, counts = np.unique(labels, return_counts=True)\n",
    "cluster_counts = dict(zip(unique, counts))\n",
    "\n",
    "# get the number of clusters\n",
    "n_clusters = len(cluster_counts)\n",
    "from tqdm import tqdm\n",
    "\n",
    "# merge clusters with less than 5 movies\n",
    "for cluster, count in tqdm(list(cluster_counts.items())):  # Iterate over a copy of the dictionary\n",
    "    if count < 5:\n",
    "        while True:  # Find a valid cluster to merge into\n",
    "            distances = np.linalg.norm(centers - centers[cluster], axis=1)\n",
    "            distances[cluster] = np.inf  # Avoid merging a cluster with itself\n",
    "            closest_cluster = np.argmin(distances)\n",
    "            \n",
    "            # Check if the closest cluster is valid\n",
    "            if closest_cluster in cluster_counts:\n",
    "                break  # Exit the loop once a valid cluster is found\n",
    "            \n",
    "            # If not valid, continue searching\n",
    "            distances[closest_cluster] = np.inf\n",
    "\n",
    "        # merge the clusters\n",
    "        labels[labels == cluster] = closest_cluster\n",
    "        \n",
    "        # update the cluster counts\n",
    "        cluster_counts[closest_cluster] += count\n",
    "        cluster_counts.pop(cluster)\n",
    "        n_clusters -= 1\n",
    "np.save(\"data/bert_clusters.npy\",labels)"
   ]
  },
  {
   "cell_type": "code",
   "execution_count": 112,
   "metadata": {},
   "outputs": [],
   "source": [
    "from scipy.spatial.distance import jaccard as jacc_score\n",
    "\n",
    "hac =[]\n",
    "for out in embeddings:#[np.argwhere(labels==20)]:\n",
    "    #calculate the jaccard similarity between the first output and the rest\n",
    "    jaccard = jacc_score(embeddings[0], out)\n",
    "    hac.append(jaccard)"
   ]
  },
  {
   "cell_type": "code",
   "execution_count": 113,
   "metadata": {},
   "outputs": [
    {
     "data": {
      "text/plain": [
       "movieId                                                                                                                              1\n",
       "title                                                                                                                 Toy Story (1995)\n",
       "genres                                                                                     Adventure|Animation|Children|Comedy|Fantasy\n",
       "imdbId                                                                                                                          114709\n",
       "tmdbId                                                                                                                           862.0\n",
       "id                                                                                                                              114709\n",
       "description    A cowboy doll is profoundly threatened and jealous when a new spaceman figure supplants him as top toy in a boy's room.\n",
       "Name: 0, dtype: object"
      ]
     },
     "execution_count": 113,
     "metadata": {},
     "output_type": "execute_result"
    }
   ],
   "source": [
    "pd.set_option('display.max_colwidth', None)\n",
    "ml_movies_description.iloc[0]"
   ]
  },
  {
   "cell_type": "code",
   "execution_count": 119,
   "metadata": {},
   "outputs": [
    {
     "data": {
      "text/plain": [
       "array([ 80, 104,  99, ...,  32,  20,  32], dtype=int32)"
      ]
     },
     "execution_count": 119,
     "metadata": {},
     "output_type": "execute_result"
    }
   ],
   "source": []
  },
  {
   "cell_type": "code",
   "execution_count": 114,
   "metadata": {},
   "outputs": [
    {
     "data": {
      "text/html": [
       "<div>\n",
       "<style scoped>\n",
       "    .dataframe tbody tr th:only-of-type {\n",
       "        vertical-align: middle;\n",
       "    }\n",
       "\n",
       "    .dataframe tbody tr th {\n",
       "        vertical-align: top;\n",
       "    }\n",
       "\n",
       "    .dataframe thead th {\n",
       "        text-align: right;\n",
       "    }\n",
       "</style>\n",
       "<table border=\"1\" class=\"dataframe\">\n",
       "  <thead>\n",
       "    <tr style=\"text-align: right;\">\n",
       "      <th></th>\n",
       "      <th>movieId</th>\n",
       "      <th>title</th>\n",
       "      <th>genres</th>\n",
       "      <th>imdbId</th>\n",
       "      <th>tmdbId</th>\n",
       "      <th>id</th>\n",
       "      <th>description</th>\n",
       "    </tr>\n",
       "  </thead>\n",
       "  <tbody>\n",
       "    <tr>\n",
       "      <th>3133</th>\n",
       "      <td>4675</td>\n",
       "      <td>Three Fugitives (1989)</td>\n",
       "      <td>Action|Comedy</td>\n",
       "      <td>98471</td>\n",
       "      <td>31608.0</td>\n",
       "      <td>98471</td>\n",
       "      <td>A reformed bank robber is taken hostage by a desperate man during a bank hold up, but is forced to go on the run with his captor when they're both mistakenly thought to be in cahoots.</td>\n",
       "    </tr>\n",
       "    <tr>\n",
       "      <th>817</th>\n",
       "      <td>1288</td>\n",
       "      <td>This Is Spinal Tap (1984)</td>\n",
       "      <td>Comedy</td>\n",
       "      <td>88258</td>\n",
       "      <td>11031.0</td>\n",
       "      <td>88258</td>\n",
       "      <td>Spinal Tap, one of England's loudest bands, is chronicled by film director Marty DiBergi on what proves to be a fateful tour.</td>\n",
       "    </tr>\n",
       "    <tr>\n",
       "      <th>5188</th>\n",
       "      <td>7951</td>\n",
       "      <td>Nightbreed (1990)</td>\n",
       "      <td>Fantasy|Horror</td>\n",
       "      <td>100260</td>\n",
       "      <td>20481.0</td>\n",
       "      <td>100260</td>\n",
       "      <td>A troubled young man is drawn to a mythical place called Midian where a variety of friendly monsters are hiding from humanity. Meanwhile, a sadistic serial killer is looking for a patsy.</td>\n",
       "    </tr>\n",
       "    <tr>\n",
       "      <th>803</th>\n",
       "      <td>1272</td>\n",
       "      <td>Patton (1970)</td>\n",
       "      <td>Drama|War</td>\n",
       "      <td>66206</td>\n",
       "      <td>11202.0</td>\n",
       "      <td>66206</td>\n",
       "      <td>The World War II phase of the career of controversial American general George S. Patton.</td>\n",
       "    </tr>\n",
       "    <tr>\n",
       "      <th>5888</th>\n",
       "      <td>26110</td>\n",
       "      <td>36 Hours (1965)</td>\n",
       "      <td>Thriller|War</td>\n",
       "      <td>57809</td>\n",
       "      <td>37684.0</td>\n",
       "      <td>57809</td>\n",
       "      <td>Germans kidnap an American major and try to convince him that World War II is over, so that they can get details about the Allied invasion of Europe out of him.</td>\n",
       "    </tr>\n",
       "  </tbody>\n",
       "</table>\n",
       "</div>"
      ],
      "text/plain": [
       "      movieId                      title          genres  imdbId   tmdbId  \\\n",
       "3133     4675     Three Fugitives (1989)   Action|Comedy   98471  31608.0   \n",
       "817      1288  This Is Spinal Tap (1984)          Comedy   88258  11031.0   \n",
       "5188     7951          Nightbreed (1990)  Fantasy|Horror  100260  20481.0   \n",
       "803      1272              Patton (1970)       Drama|War   66206  11202.0   \n",
       "5888    26110            36 Hours (1965)    Thriller|War   57809  37684.0   \n",
       "\n",
       "          id  \\\n",
       "3133   98471   \n",
       "817    88258   \n",
       "5188  100260   \n",
       "803    66206   \n",
       "5888   57809   \n",
       "\n",
       "                                                                                                                                                                                     description  \n",
       "3133     A reformed bank robber is taken hostage by a desperate man during a bank hold up, but is forced to go on the run with his captor when they're both mistakenly thought to be in cahoots.  \n",
       "817                                                                Spinal Tap, one of England's loudest bands, is chronicled by film director Marty DiBergi on what proves to be a fateful tour.  \n",
       "5188  A troubled young man is drawn to a mythical place called Midian where a variety of friendly monsters are hiding from humanity. Meanwhile, a sadistic serial killer is looking for a patsy.  \n",
       "803                                                                                                     The World War II phase of the career of controversial American general George S. Patton.  \n",
       "5888                            Germans kidnap an American major and try to convince him that World War II is over, so that they can get details about the Allied invasion of Europe out of him.  "
      ]
     },
     "execution_count": 114,
     "metadata": {},
     "output_type": "execute_result"
    }
   ],
   "source": [
    "ml_movies_description.iloc[np.argsort(hac)[-5:][::-1]]"
   ]
  },
  {
   "cell_type": "code",
   "execution_count": 121,
   "metadata": {},
   "outputs": [
    {
     "ename": "ValueError",
     "evalue": "Length of values (6496) does not match length of index (51860)",
     "output_type": "error",
     "traceback": [
      "\u001b[0;31m---------------------------------------------------------------------------\u001b[0m",
      "\u001b[0;31mValueError\u001b[0m                                Traceback (most recent call last)",
      "Cell \u001b[0;32mIn[121], line 1\u001b[0m\n\u001b[0;32m----> 1\u001b[0m ml_movies_description[\u001b[38;5;124m'\u001b[39m\u001b[38;5;124mbert_cluster\u001b[39m\u001b[38;5;124m'\u001b[39m] \u001b[38;5;241m=\u001b[39m labels\n",
      "File \u001b[0;32m/work3/s204161/miniconda/lib/python3.10/site-packages/pandas/core/frame.py:3978\u001b[0m, in \u001b[0;36mDataFrame.__setitem__\u001b[0;34m(self, key, value)\u001b[0m\n\u001b[1;32m   3975\u001b[0m     \u001b[38;5;28mself\u001b[39m\u001b[38;5;241m.\u001b[39m_setitem_array([key], value)\n\u001b[1;32m   3976\u001b[0m \u001b[38;5;28;01melse\u001b[39;00m:\n\u001b[1;32m   3977\u001b[0m     \u001b[38;5;66;03m# set column\u001b[39;00m\n\u001b[0;32m-> 3978\u001b[0m     \u001b[38;5;28;43mself\u001b[39;49m\u001b[38;5;241;43m.\u001b[39;49m\u001b[43m_set_item\u001b[49m\u001b[43m(\u001b[49m\u001b[43mkey\u001b[49m\u001b[43m,\u001b[49m\u001b[43m \u001b[49m\u001b[43mvalue\u001b[49m\u001b[43m)\u001b[49m\n",
      "File \u001b[0;32m/work3/s204161/miniconda/lib/python3.10/site-packages/pandas/core/frame.py:4172\u001b[0m, in \u001b[0;36mDataFrame._set_item\u001b[0;34m(self, key, value)\u001b[0m\n\u001b[1;32m   4162\u001b[0m \u001b[38;5;28;01mdef\u001b[39;00m \u001b[38;5;21m_set_item\u001b[39m(\u001b[38;5;28mself\u001b[39m, key, value) \u001b[38;5;241m-\u001b[39m\u001b[38;5;241m>\u001b[39m \u001b[38;5;28;01mNone\u001b[39;00m:\n\u001b[1;32m   4163\u001b[0m     \u001b[38;5;124;03m\"\"\"\u001b[39;00m\n\u001b[1;32m   4164\u001b[0m \u001b[38;5;124;03m    Add series to DataFrame in specified column.\u001b[39;00m\n\u001b[1;32m   4165\u001b[0m \n\u001b[0;32m   (...)\u001b[0m\n\u001b[1;32m   4170\u001b[0m \u001b[38;5;124;03m    ensure homogeneity.\u001b[39;00m\n\u001b[1;32m   4171\u001b[0m \u001b[38;5;124;03m    \"\"\"\u001b[39;00m\n\u001b[0;32m-> 4172\u001b[0m     value \u001b[38;5;241m=\u001b[39m \u001b[38;5;28;43mself\u001b[39;49m\u001b[38;5;241;43m.\u001b[39;49m\u001b[43m_sanitize_column\u001b[49m\u001b[43m(\u001b[49m\u001b[43mvalue\u001b[49m\u001b[43m)\u001b[49m\n\u001b[1;32m   4174\u001b[0m     \u001b[38;5;28;01mif\u001b[39;00m (\n\u001b[1;32m   4175\u001b[0m         key \u001b[38;5;129;01min\u001b[39;00m \u001b[38;5;28mself\u001b[39m\u001b[38;5;241m.\u001b[39mcolumns\n\u001b[1;32m   4176\u001b[0m         \u001b[38;5;129;01mand\u001b[39;00m value\u001b[38;5;241m.\u001b[39mndim \u001b[38;5;241m==\u001b[39m \u001b[38;5;241m1\u001b[39m\n\u001b[1;32m   4177\u001b[0m         \u001b[38;5;129;01mand\u001b[39;00m \u001b[38;5;129;01mnot\u001b[39;00m is_extension_array_dtype(value)\n\u001b[1;32m   4178\u001b[0m     ):\n\u001b[1;32m   4179\u001b[0m         \u001b[38;5;66;03m# broadcast across multiple columns if necessary\u001b[39;00m\n\u001b[1;32m   4180\u001b[0m         \u001b[38;5;28;01mif\u001b[39;00m \u001b[38;5;129;01mnot\u001b[39;00m \u001b[38;5;28mself\u001b[39m\u001b[38;5;241m.\u001b[39mcolumns\u001b[38;5;241m.\u001b[39mis_unique \u001b[38;5;129;01mor\u001b[39;00m \u001b[38;5;28misinstance\u001b[39m(\u001b[38;5;28mself\u001b[39m\u001b[38;5;241m.\u001b[39mcolumns, MultiIndex):\n",
      "File \u001b[0;32m/work3/s204161/miniconda/lib/python3.10/site-packages/pandas/core/frame.py:4912\u001b[0m, in \u001b[0;36mDataFrame._sanitize_column\u001b[0;34m(self, value)\u001b[0m\n\u001b[1;32m   4909\u001b[0m     \u001b[38;5;28;01mreturn\u001b[39;00m _reindex_for_setitem(Series(value), \u001b[38;5;28mself\u001b[39m\u001b[38;5;241m.\u001b[39mindex)\n\u001b[1;32m   4911\u001b[0m \u001b[38;5;28;01mif\u001b[39;00m is_list_like(value):\n\u001b[0;32m-> 4912\u001b[0m     \u001b[43mcom\u001b[49m\u001b[38;5;241;43m.\u001b[39;49m\u001b[43mrequire_length_match\u001b[49m\u001b[43m(\u001b[49m\u001b[43mvalue\u001b[49m\u001b[43m,\u001b[49m\u001b[43m \u001b[49m\u001b[38;5;28;43mself\u001b[39;49m\u001b[38;5;241;43m.\u001b[39;49m\u001b[43mindex\u001b[49m\u001b[43m)\u001b[49m\n\u001b[1;32m   4913\u001b[0m \u001b[38;5;28;01mreturn\u001b[39;00m sanitize_array(value, \u001b[38;5;28mself\u001b[39m\u001b[38;5;241m.\u001b[39mindex, copy\u001b[38;5;241m=\u001b[39m\u001b[38;5;28;01mTrue\u001b[39;00m, allow_2d\u001b[38;5;241m=\u001b[39m\u001b[38;5;28;01mTrue\u001b[39;00m)\n",
      "File \u001b[0;32m/work3/s204161/miniconda/lib/python3.10/site-packages/pandas/core/common.py:561\u001b[0m, in \u001b[0;36mrequire_length_match\u001b[0;34m(data, index)\u001b[0m\n\u001b[1;32m    557\u001b[0m \u001b[38;5;124;03m\"\"\"\u001b[39;00m\n\u001b[1;32m    558\u001b[0m \u001b[38;5;124;03mCheck the length of data matches the length of the index.\u001b[39;00m\n\u001b[1;32m    559\u001b[0m \u001b[38;5;124;03m\"\"\"\u001b[39;00m\n\u001b[1;32m    560\u001b[0m \u001b[38;5;28;01mif\u001b[39;00m \u001b[38;5;28mlen\u001b[39m(data) \u001b[38;5;241m!=\u001b[39m \u001b[38;5;28mlen\u001b[39m(index):\n\u001b[0;32m--> 561\u001b[0m     \u001b[38;5;28;01mraise\u001b[39;00m \u001b[38;5;167;01mValueError\u001b[39;00m(\n\u001b[1;32m    562\u001b[0m         \u001b[38;5;124m\"\u001b[39m\u001b[38;5;124mLength of values \u001b[39m\u001b[38;5;124m\"\u001b[39m\n\u001b[1;32m    563\u001b[0m         \u001b[38;5;124mf\u001b[39m\u001b[38;5;124m\"\u001b[39m\u001b[38;5;124m(\u001b[39m\u001b[38;5;132;01m{\u001b[39;00m\u001b[38;5;28mlen\u001b[39m(data)\u001b[38;5;132;01m}\u001b[39;00m\u001b[38;5;124m) \u001b[39m\u001b[38;5;124m\"\u001b[39m\n\u001b[1;32m    564\u001b[0m         \u001b[38;5;124m\"\u001b[39m\u001b[38;5;124mdoes not match length of index \u001b[39m\u001b[38;5;124m\"\u001b[39m\n\u001b[1;32m    565\u001b[0m         \u001b[38;5;124mf\u001b[39m\u001b[38;5;124m\"\u001b[39m\u001b[38;5;124m(\u001b[39m\u001b[38;5;132;01m{\u001b[39;00m\u001b[38;5;28mlen\u001b[39m(index)\u001b[38;5;132;01m}\u001b[39;00m\u001b[38;5;124m)\u001b[39m\u001b[38;5;124m\"\u001b[39m\n\u001b[1;32m    566\u001b[0m     )\n",
      "\u001b[0;31mValueError\u001b[0m: Length of values (6496) does not match length of index (51860)"
     ]
    }
   ],
   "source": [
    "ml_movies_description['bert_cluster'] = labels"
   ]
  },
  {
   "cell_type": "code",
   "execution_count": 120,
   "metadata": {},
   "outputs": [
    {
     "data": {
      "text/html": [
       "<div>\n",
       "<style scoped>\n",
       "    .dataframe tbody tr th:only-of-type {\n",
       "        vertical-align: middle;\n",
       "    }\n",
       "\n",
       "    .dataframe tbody tr th {\n",
       "        vertical-align: top;\n",
       "    }\n",
       "\n",
       "    .dataframe thead th {\n",
       "        text-align: right;\n",
       "    }\n",
       "</style>\n",
       "<table border=\"1\" class=\"dataframe\">\n",
       "  <thead>\n",
       "    <tr style=\"text-align: right;\">\n",
       "      <th></th>\n",
       "      <th>movieId</th>\n",
       "      <th>title</th>\n",
       "      <th>genres</th>\n",
       "      <th>imdbId</th>\n",
       "      <th>tmdbId</th>\n",
       "      <th>id</th>\n",
       "      <th>description</th>\n",
       "    </tr>\n",
       "  </thead>\n",
       "  <tbody>\n",
       "    <tr>\n",
       "      <th>0</th>\n",
       "      <td>1</td>\n",
       "      <td>Toy Story (1995)</td>\n",
       "      <td>Adventure|Animation|Children|Comedy|Fantasy</td>\n",
       "      <td>114709</td>\n",
       "      <td>862.0</td>\n",
       "      <td>114709</td>\n",
       "      <td>A cowboy doll is profoundly threatened and jealous when a new spaceman figure supplants him as top toy in a boy's room.</td>\n",
       "    </tr>\n",
       "    <tr>\n",
       "      <th>48</th>\n",
       "      <td>71</td>\n",
       "      <td>Fair Game (1995)</td>\n",
       "      <td>Action</td>\n",
       "      <td>113010</td>\n",
       "      <td>11859.0</td>\n",
       "      <td>113010</td>\n",
       "      <td>Max Kirkpatrick is a cop who protects Kate McQuean, a civil law attorney, from a renegade KGB team out to terminate her.</td>\n",
       "    </tr>\n",
       "    <tr>\n",
       "      <th>54</th>\n",
       "      <td>79</td>\n",
       "      <td>Juror, The (1996)</td>\n",
       "      <td>Drama|Thriller</td>\n",
       "      <td>116731</td>\n",
       "      <td>9623.0</td>\n",
       "      <td>116731</td>\n",
       "      <td>A juror in a Mafia trial is forced to convince the other jurors to vote not guilty by an obsessive mob enforcer.</td>\n",
       "    </tr>\n",
       "    <tr>\n",
       "      <th>73</th>\n",
       "      <td>112</td>\n",
       "      <td>Rumble in the Bronx (Hont faan kui) (1995)</td>\n",
       "      <td>Action|Adventure|Comedy|Crime</td>\n",
       "      <td>113326</td>\n",
       "      <td>33542.0</td>\n",
       "      <td>113326</td>\n",
       "      <td>A young man visiting and helping his uncle in New York City finds himself forced to fight a street gang and the mob with his martial art skills.</td>\n",
       "    </tr>\n",
       "    <tr>\n",
       "      <th>103</th>\n",
       "      <td>165</td>\n",
       "      <td>Die Hard: With a Vengeance (1995)</td>\n",
       "      <td>Action|Crime|Thriller</td>\n",
       "      <td>112864</td>\n",
       "      <td>1572.0</td>\n",
       "      <td>112864</td>\n",
       "      <td>John McClane and a Harlem store owner are targeted by German terrorist Simon in New York City, where he plans to rob the Federal Reserve Building.</td>\n",
       "    </tr>\n",
       "    <tr>\n",
       "      <th>...</th>\n",
       "      <td>...</td>\n",
       "      <td>...</td>\n",
       "      <td>...</td>\n",
       "      <td>...</td>\n",
       "      <td>...</td>\n",
       "      <td>...</td>\n",
       "      <td>...</td>\n",
       "    </tr>\n",
       "    <tr>\n",
       "      <th>6391</th>\n",
       "      <td>27695</td>\n",
       "      <td>Nicotina (2003)</td>\n",
       "      <td>Action|Comedy|Drama</td>\n",
       "      <td>337930</td>\n",
       "      <td>11556.0</td>\n",
       "      <td>337930</td>\n",
       "      <td>A real-time dark comedy about a science geek who tangles with a clutch of Russian gangsters after he delivers them the wrong computer disk.</td>\n",
       "    </tr>\n",
       "    <tr>\n",
       "      <th>6398</th>\n",
       "      <td>27721</td>\n",
       "      <td>Very Long Engagement, A (Un long dimanche de fiançailles) (2004)</td>\n",
       "      <td>Drama|Mystery|Romance|War</td>\n",
       "      <td>344510</td>\n",
       "      <td>2841.0</td>\n",
       "      <td>344510</td>\n",
       "      <td>Tells the story of a young woman's relentless search for her fiancé, who has disappeared from the trenches of the Somme during World War One.</td>\n",
       "    </tr>\n",
       "    <tr>\n",
       "      <th>6420</th>\n",
       "      <td>27778</td>\n",
       "      <td>Ginger Snaps Back: The Beginning (2004)</td>\n",
       "      <td>Fantasy|Horror</td>\n",
       "      <td>365265</td>\n",
       "      <td>12583.0</td>\n",
       "      <td>365265</td>\n",
       "      <td>Set in 19th Century Canada, Brigette and her sister Ginger take refuge in a Traders' Fort which later becomes under siege by some savage werewolves.</td>\n",
       "    </tr>\n",
       "    <tr>\n",
       "      <th>6435</th>\n",
       "      <td>27812</td>\n",
       "      <td>Festival Express (2003)</td>\n",
       "      <td>Documentary|Musical</td>\n",
       "      <td>372279</td>\n",
       "      <td>14770.0</td>\n",
       "      <td>372279</td>\n",
       "      <td>The filmed account of a large Canadian rock festival train tour boasting major acts like Janis Joplin, The Grateful Dead and The Band.</td>\n",
       "    </tr>\n",
       "    <tr>\n",
       "      <th>6471</th>\n",
       "      <td>27904</td>\n",
       "      <td>Scanner Darkly, A (2006)</td>\n",
       "      <td>Animation|Drama|Mystery|Sci-Fi|Thriller</td>\n",
       "      <td>405296</td>\n",
       "      <td>3509.0</td>\n",
       "      <td>405296</td>\n",
       "      <td>An undercover cop in a not-too-distant future becomes involved with a dangerous new drug and begins to lose his own identity as a result.</td>\n",
       "    </tr>\n",
       "  </tbody>\n",
       "</table>\n",
       "<p>223 rows × 7 columns</p>\n",
       "</div>"
      ],
      "text/plain": [
       "      movieId  \\\n",
       "0           1   \n",
       "48         71   \n",
       "54         79   \n",
       "73        112   \n",
       "103       165   \n",
       "...       ...   \n",
       "6391    27695   \n",
       "6398    27721   \n",
       "6420    27778   \n",
       "6435    27812   \n",
       "6471    27904   \n",
       "\n",
       "                                                                 title  \\\n",
       "0                                                     Toy Story (1995)   \n",
       "48                                                    Fair Game (1995)   \n",
       "54                                                   Juror, The (1996)   \n",
       "73                          Rumble in the Bronx (Hont faan kui) (1995)   \n",
       "103                                  Die Hard: With a Vengeance (1995)   \n",
       "...                                                                ...   \n",
       "6391                                                   Nicotina (2003)   \n",
       "6398  Very Long Engagement, A (Un long dimanche de fiançailles) (2004)   \n",
       "6420                           Ginger Snaps Back: The Beginning (2004)   \n",
       "6435                                           Festival Express (2003)   \n",
       "6471                                          Scanner Darkly, A (2006)   \n",
       "\n",
       "                                           genres  imdbId   tmdbId      id  \\\n",
       "0     Adventure|Animation|Children|Comedy|Fantasy  114709    862.0  114709   \n",
       "48                                         Action  113010  11859.0  113010   \n",
       "54                                 Drama|Thriller  116731   9623.0  116731   \n",
       "73                  Action|Adventure|Comedy|Crime  113326  33542.0  113326   \n",
       "103                         Action|Crime|Thriller  112864   1572.0  112864   \n",
       "...                                           ...     ...      ...     ...   \n",
       "6391                          Action|Comedy|Drama  337930  11556.0  337930   \n",
       "6398                    Drama|Mystery|Romance|War  344510   2841.0  344510   \n",
       "6420                               Fantasy|Horror  365265  12583.0  365265   \n",
       "6435                          Documentary|Musical  372279  14770.0  372279   \n",
       "6471      Animation|Drama|Mystery|Sci-Fi|Thriller  405296   3509.0  405296   \n",
       "\n",
       "                                                                                                                                               description  \n",
       "0                                  A cowboy doll is profoundly threatened and jealous when a new spaceman figure supplants him as top toy in a boy's room.  \n",
       "48                                Max Kirkpatrick is a cop who protects Kate McQuean, a civil law attorney, from a renegade KGB team out to terminate her.  \n",
       "54                                        A juror in a Mafia trial is forced to convince the other jurors to vote not guilty by an obsessive mob enforcer.  \n",
       "73        A young man visiting and helping his uncle in New York City finds himself forced to fight a street gang and the mob with his martial art skills.  \n",
       "103     John McClane and a Harlem store owner are targeted by German terrorist Simon in New York City, where he plans to rob the Federal Reserve Building.  \n",
       "...                                                                                                                                                    ...  \n",
       "6391           A real-time dark comedy about a science geek who tangles with a clutch of Russian gangsters after he delivers them the wrong computer disk.  \n",
       "6398         Tells the story of a young woman's relentless search for her fiancé, who has disappeared from the trenches of the Somme during World War One.  \n",
       "6420  Set in 19th Century Canada, Brigette and her sister Ginger take refuge in a Traders' Fort which later becomes under siege by some savage werewolves.  \n",
       "6435                The filmed account of a large Canadian rock festival train tour boasting major acts like Janis Joplin, The Grateful Dead and The Band.  \n",
       "6471             An undercover cop in a not-too-distant future becomes involved with a dangerous new drug and begins to lose his own identity as a result.  \n",
       "\n",
       "[223 rows x 7 columns]"
      ]
     },
     "execution_count": 120,
     "metadata": {},
     "output_type": "execute_result"
    }
   ],
   "source": [
    "\n",
    "ml_movies_description.iloc[np.argwhere(labels==80).flatten()]"
   ]
  },
  {
   "cell_type": "code",
   "execution_count": 118,
   "metadata": {},
   "outputs": [
    {
     "data": {
      "text/plain": [
       "110                                   In a dystopian future, Joseph Dredd, the most famous Judge (a police officer with instant field judiciary powers), is convicted for a crime he did not commit and must face his murderous counterpart.\n",
       "145                                   Hatch gets a special resuscitative medicine after \"dying\" in a car accident. His wife and daughter only get minor injuries. He gets strange nightmares such as killing a teen girl. Is it just dreams?\n",
       "181                                  12-year-old Mathilda is reluctantly taken in by Léon, a professional assassin, after her family is murdered. An unusual relationship forms as she becomes his protégée and learns the assassin's trade.\n",
       "245       A group of college seniors spending a weekend at a cottage for a psychological experiment called \"fear therapy\" find a human-sized wooden figure called Morty, which triggers everyone's deepest and darkest secrets and emotions.\n",
       "305                       A pragmatic paleontologist touring an almost complete theme park on an island in Central America is tasked with protecting a couple of kids after a power failure causes the park's cloned dinosaurs to run loose.\n",
       "                                                                                                                        ...                                                                                                                 \n",
       "6219    During the war in Bosnia, two childhood friends eventually become enemies, as the tragic and devastating circumstances of the war put them on the opposite sides and expose the most gruesome and cruel aspects of the human nature.\n",
       "6250                           A 19 year old finds himself in debt to a local gangster when some gang loot disappears and sets him on the run from thugs. Meanwhile two street kids start a shopping spree when they find the missing money.\n",
       "6270                                              A teenage prostitute escapes from a juvenile prison with a 16-year-old serial killer and both go on a destructive road trip to Mexico in this twist on the \"Hansel and Gretel\" fairy tale.\n",
       "6287                Fanatic is a government trooper who is heading an expedition to find an Aboriginal man accused of murdering a white woman. Others in the expedition are the Follower, a greenhorn trooper, the Veteran, and the Tracker.\n",
       "6337                                          Saya is a Japanese vampire slayer whose next mission is in a high school on a US military base in 1960s Japan, where she poses as a student. She uses a katana/samurai sword to kill vampires.\n",
       "Name: description, Length: 118, dtype: object"
      ]
     },
     "execution_count": 118,
     "metadata": {},
     "output_type": "execute_result"
    }
   ],
   "source": [
    "ml_movies_description.iloc[np.argwhere(labels==3).flatten()].description"
   ]
  },
  {
   "cell_type": "code",
   "execution_count": 55,
   "metadata": {},
   "outputs": [
    {
     "ename": "AttributeError",
     "evalue": "'numpy.float64' object has no attribute 'cpu'",
     "output_type": "error",
     "traceback": [
      "\u001b[1;31m---------------------------------------------------------------------------\u001b[0m",
      "\u001b[1;31mAttributeError\u001b[0m                            Traceback (most recent call last)",
      "Cell \u001b[1;32mIn[55], line 10\u001b[0m\n\u001b[0;32m      7\u001b[0m jaccard \u001b[38;5;241m=\u001b[39m jacc_score(outputz[\u001b[38;5;241m0\u001b[39m], outputz[i])\n\u001b[0;32m      8\u001b[0m \u001b[38;5;66;03m#take the mean of the jaccard similarity\u001b[39;00m\n\u001b[0;32m      9\u001b[0m \u001b[38;5;66;03m#add the jaccard similarity to the dataframe\u001b[39;00m\n\u001b[1;32m---> 10\u001b[0m ml_movies_description[\u001b[38;5;124mf\u001b[39m\u001b[38;5;124m'\u001b[39m\u001b[38;5;124mjaccard_\u001b[39m\u001b[38;5;132;01m{\u001b[39;00mi\u001b[38;5;132;01m}\u001b[39;00m\u001b[38;5;124m'\u001b[39m] \u001b[38;5;241m=\u001b[39m \u001b[43mjaccard\u001b[49m\u001b[38;5;241;43m.\u001b[39;49m\u001b[43mcpu\u001b[49m()\u001b[38;5;241m.\u001b[39mnumpy()\n",
      "\u001b[1;31mAttributeError\u001b[0m: 'numpy.float64' object has no attribute 'cpu'"
     ]
    }
   ],
   "source": [
    "#jaccard for similarity between output 1 and outputs\n",
    "\n",
    "#flatten the outputs\n",
    "#calculate the jaccard similarity between the first output and the rest\n",
    "for i in range(1, outputz.size(0)):\n",
    "    #calculate the jaccard similarity between the first output and the rest\n",
    "    jaccard = jacc_score(outputz[0], outputz[i])\n",
    "    #take the mean of the jaccard similarity\n",
    "    #add the jaccard similarity to the dataframe\n",
    "    ml_movies_description[f'jaccard_{i}'] = jaccard"
   ]
  },
  {
   "cell_type": "code",
   "execution_count": 11,
   "metadata": {},
   "outputs": [],
   "source": [
    "\n",
    "from datasketch import MinHash, MinHashLSH"
   ]
  },
  {
   "cell_type": "code",
   "execution_count": 16,
   "metadata": {},
   "outputs": [],
   "source": [
    "lsh = MinHashLSH(threshold=0.7, num_perm=108)\n"
   ]
  },
  {
   "cell_type": "code",
   "execution_count": 29,
   "metadata": {},
   "outputs": [
    {
     "ename": "MemoryError",
     "evalue": "Unable to allocate 6.18 GiB for an array with shape (10000, 82944) and data type float64",
     "output_type": "error",
     "traceback": [
      "\u001b[1;31m---------------------------------------------------------------------------\u001b[0m",
      "\u001b[1;31mMemoryError\u001b[0m                               Traceback (most recent call last)",
      "Cell \u001b[1;32mIn[29], line 6\u001b[0m\n\u001b[0;32m      3\u001b[0m \u001b[38;5;28;01mfrom\u001b[39;00m \u001b[38;5;21;01msklearn\u001b[39;00m\u001b[38;5;21;01m.\u001b[39;00m\u001b[38;5;21;01mmetrics\u001b[39;00m\u001b[38;5;21;01m.\u001b[39;00m\u001b[38;5;21;01mpairwise\u001b[39;00m \u001b[38;5;28;01mimport\u001b[39;00m cosine_similarity\n\u001b[0;32m      5\u001b[0m \u001b[38;5;66;03m# Simulated BERT embeddings (replace this with your actual data)\u001b[39;00m\n\u001b[1;32m----> 6\u001b[0m embeddings \u001b[38;5;241m=\u001b[39m \u001b[43mnp\u001b[49m\u001b[38;5;241;43m.\u001b[39;49m\u001b[43mrandom\u001b[49m\u001b[38;5;241;43m.\u001b[39;49m\u001b[43mrand\u001b[49m\u001b[43m(\u001b[49m\u001b[38;5;241;43m10000\u001b[39;49m\u001b[43m,\u001b[49m\u001b[43m \u001b[49m\u001b[38;5;241;43m768\u001b[39;49m\u001b[38;5;241;43m*\u001b[39;49m\u001b[38;5;241;43m108\u001b[39;49m\u001b[43m)\u001b[49m\n\u001b[0;32m      8\u001b[0m \u001b[38;5;66;03m# Step 1: Reduce Dimensionality with Random Projection\u001b[39;00m\n\u001b[0;32m      9\u001b[0m n_components \u001b[38;5;241m=\u001b[39m \u001b[38;5;241m128\u001b[39m  \u001b[38;5;66;03m# Choose the reduced dimensionality\u001b[39;00m\n",
      "File \u001b[1;32mnumpy\\\\random\\\\mtrand.pyx:1218\u001b[0m, in \u001b[0;36mnumpy.random.mtrand.RandomState.rand\u001b[1;34m()\u001b[0m\n",
      "File \u001b[1;32mnumpy\\\\random\\\\mtrand.pyx:436\u001b[0m, in \u001b[0;36mnumpy.random.mtrand.RandomState.random_sample\u001b[1;34m()\u001b[0m\n",
      "File \u001b[1;32m_common.pyx:307\u001b[0m, in \u001b[0;36mnumpy.random._common.double_fill\u001b[1;34m()\u001b[0m\n",
      "\u001b[1;31mMemoryError\u001b[0m: Unable to allocate 6.18 GiB for an array with shape (10000, 82944) and data type float64"
     ]
    }
   ],
   "source": [
    "import numpy as np\n",
    "from sklearn.random_projection import SparseRandomProjection\n",
    "from sklearn.metrics.pairwise import cosine_similarity\n",
    "\n",
    "# Simulated BERT embeddings (replace this with your actual data)\n",
    "embeddings = np.random.rand(10000, 768*108)\n",
    "\n",
    "# Step 1: Reduce Dimensionality with Random Projection\n",
    "n_components = 128  # Choose the reduced dimensionality\n",
    "transformer = SparseRandomProjection(n_components=n_components)\n",
    "reduced_embeddings = transformer.fit_transform(embeddings)\n",
    "\n",
    "# Step 2: Implement LSH-like Bucketing (Simplified Example)\n",
    "\n",
    "n_hash_planes = 16  # Number of hash planes\n",
    "random_hyperplanes = np.random.randn(n_hash_planes, n_components)\n",
    "\n",
    "# Compute binary hash (each vector is hashed based on the sign of the dot product)\n",
    "binary_hash = (reduced_embeddings @ random_hyperplanes.T) > 0  # Boolean array\n",
    "hash_buckets = binary_hash.astype(int)  # Convert to integer (0/1)\n",
    "\n",
    "# Optional: Convert hash to integers for easier bucket indexing\n",
    "bucket_indices = hash_buckets.dot(1 << np.arange(hash_buckets.shape[-1]))\n",
    "\n",
    "# Step 3: Calculate Similarities within Buckets\n",
    "query = reduced_embeddings[0]  # Select a query vector\n",
    "query_hash = (query @ random_hyperplanes.T) > 0\n",
    "query_bucket = query_hash.astype(int).dot(1 << np.arange(query_hash.shape[-1]))\n",
    "\n",
    "# Find neighbors in the same bucket\n",
    "bucket_mask = bucket_indices == query_bucket\n",
    "neighbors = embeddings[bucket_mask]  # Embeddings in the same bucket\n",
    "similarities = cosine_similarity([embeddings[0]], neighbors)  # Calculate similarity\n",
    "\n",
    "print(f\"Number of neighbors in the same bucket: {len(neighbors)}\")\n"
   ]
  },
  {
   "cell_type": "code",
   "execution_count": 30,
   "metadata": {},
   "outputs": [],
   "source": []
  },
  {
   "cell_type": "code",
   "execution_count": 17,
   "metadata": {},
   "outputs": [
    {
     "ename": "AttributeError",
     "evalue": "'Tensor' object has no attribute 'hashvalues'",
     "output_type": "error",
     "traceback": [
      "\u001b[1;31m---------------------------------------------------------------------------\u001b[0m",
      "\u001b[1;31mAttributeError\u001b[0m                            Traceback (most recent call last)",
      "Cell \u001b[1;32mIn[17], line 3\u001b[0m\n\u001b[0;32m      1\u001b[0m \u001b[38;5;66;03m# Insert each min-hash signature into the LSH\u001b[39;00m\n\u001b[0;32m      2\u001b[0m \u001b[38;5;28;01mfor\u001b[39;00m idx, minhash \u001b[38;5;129;01min\u001b[39;00m \u001b[38;5;28menumerate\u001b[39m(outputs):\n\u001b[1;32m----> 3\u001b[0m     \u001b[43mlsh\u001b[49m\u001b[38;5;241;43m.\u001b[39;49m\u001b[43minsert\u001b[49m\u001b[43m(\u001b[49m\u001b[43midx\u001b[49m\u001b[43m,\u001b[49m\u001b[43m \u001b[49m\u001b[43mminhash\u001b[49m\u001b[43m)\u001b[49m  \u001b[38;5;66;03m# Use the DataFrame index as the unique ID\u001b[39;00m\n",
      "File \u001b[1;32mc:\\Users\\khali\\miniconda3\\Lib\\site-packages\\datasketch\\lsh.py:227\u001b[0m, in \u001b[0;36mMinHashLSH.insert\u001b[1;34m(self, key, minhash, check_duplication)\u001b[0m\n\u001b[0;32m    208\u001b[0m \u001b[38;5;28;01mdef\u001b[39;00m \u001b[38;5;21minsert\u001b[39m(\n\u001b[0;32m    209\u001b[0m     \u001b[38;5;28mself\u001b[39m,\n\u001b[0;32m    210\u001b[0m     key: Hashable,\n\u001b[0;32m    211\u001b[0m     minhash: Union[MinHash, WeightedMinHash],\n\u001b[0;32m    212\u001b[0m     check_duplication: \u001b[38;5;28mbool\u001b[39m \u001b[38;5;241m=\u001b[39m \u001b[38;5;28;01mTrue\u001b[39;00m,\n\u001b[0;32m    213\u001b[0m ):\n\u001b[0;32m    214\u001b[0m \u001b[38;5;250m    \u001b[39m\u001b[38;5;124;03m\"\"\"\u001b[39;00m\n\u001b[0;32m    215\u001b[0m \u001b[38;5;124;03m    Insert a key to the index, together with a MinHash or Weighted MinHash\u001b[39;00m\n\u001b[0;32m    216\u001b[0m \u001b[38;5;124;03m    of the set referenced by the key.\u001b[39;00m\n\u001b[1;32m   (...)\u001b[0m\n\u001b[0;32m    225\u001b[0m \n\u001b[0;32m    226\u001b[0m \u001b[38;5;124;03m    \"\"\"\u001b[39;00m\n\u001b[1;32m--> 227\u001b[0m     \u001b[38;5;28;43mself\u001b[39;49m\u001b[38;5;241;43m.\u001b[39;49m\u001b[43m_insert\u001b[49m\u001b[43m(\u001b[49m\u001b[43mkey\u001b[49m\u001b[43m,\u001b[49m\u001b[43m \u001b[49m\u001b[43mminhash\u001b[49m\u001b[43m,\u001b[49m\u001b[43m \u001b[49m\u001b[43mcheck_duplication\u001b[49m\u001b[38;5;241;43m=\u001b[39;49m\u001b[43mcheck_duplication\u001b[49m\u001b[43m,\u001b[49m\u001b[43m \u001b[49m\u001b[43mbuffer\u001b[49m\u001b[38;5;241;43m=\u001b[39;49m\u001b[38;5;28;43;01mFalse\u001b[39;49;00m\u001b[43m)\u001b[49m\n",
      "File \u001b[1;32mc:\\Users\\khali\\miniconda3\\Lib\\site-packages\\datasketch\\lsh.py:303\u001b[0m, in \u001b[0;36mMinHashLSH._insert\u001b[1;34m(self, key, minhash, check_duplication, buffer)\u001b[0m\n\u001b[0;32m    301\u001b[0m \u001b[38;5;28;01mif\u001b[39;00m check_duplication \u001b[38;5;129;01mand\u001b[39;00m key \u001b[38;5;129;01min\u001b[39;00m \u001b[38;5;28mself\u001b[39m\u001b[38;5;241m.\u001b[39mkeys:\n\u001b[0;32m    302\u001b[0m     \u001b[38;5;28;01mraise\u001b[39;00m \u001b[38;5;167;01mValueError\u001b[39;00m(\u001b[38;5;124m\"\u001b[39m\u001b[38;5;124mThe given key already exists\u001b[39m\u001b[38;5;124m\"\u001b[39m)\n\u001b[1;32m--> 303\u001b[0m Hs \u001b[38;5;241m=\u001b[39m \u001b[43m[\u001b[49m\u001b[38;5;28;43mself\u001b[39;49m\u001b[38;5;241;43m.\u001b[39;49m\u001b[43m_H\u001b[49m\u001b[43m(\u001b[49m\u001b[43mminhash\u001b[49m\u001b[38;5;241;43m.\u001b[39;49m\u001b[43mhashvalues\u001b[49m\u001b[43m[\u001b[49m\u001b[43mstart\u001b[49m\u001b[43m:\u001b[49m\u001b[43mend\u001b[49m\u001b[43m]\u001b[49m\u001b[43m)\u001b[49m\u001b[43m \u001b[49m\u001b[38;5;28;43;01mfor\u001b[39;49;00m\u001b[43m \u001b[49m\u001b[43mstart\u001b[49m\u001b[43m,\u001b[49m\u001b[43m \u001b[49m\u001b[43mend\u001b[49m\u001b[43m \u001b[49m\u001b[38;5;129;43;01min\u001b[39;49;00m\u001b[43m \u001b[49m\u001b[38;5;28;43mself\u001b[39;49m\u001b[38;5;241;43m.\u001b[39;49m\u001b[43mhashranges\u001b[49m\u001b[43m]\u001b[49m\n\u001b[0;32m    304\u001b[0m \u001b[38;5;28mself\u001b[39m\u001b[38;5;241m.\u001b[39mkeys\u001b[38;5;241m.\u001b[39minsert(key, \u001b[38;5;241m*\u001b[39mHs, buffer\u001b[38;5;241m=\u001b[39mbuffer)\n\u001b[0;32m    305\u001b[0m \u001b[38;5;28;01mfor\u001b[39;00m H, hashtable \u001b[38;5;129;01min\u001b[39;00m \u001b[38;5;28mzip\u001b[39m(Hs, \u001b[38;5;28mself\u001b[39m\u001b[38;5;241m.\u001b[39mhashtables):\n",
      "File \u001b[1;32mc:\\Users\\khali\\miniconda3\\Lib\\site-packages\\datasketch\\lsh.py:303\u001b[0m, in \u001b[0;36m<listcomp>\u001b[1;34m(.0)\u001b[0m\n\u001b[0;32m    301\u001b[0m \u001b[38;5;28;01mif\u001b[39;00m check_duplication \u001b[38;5;129;01mand\u001b[39;00m key \u001b[38;5;129;01min\u001b[39;00m \u001b[38;5;28mself\u001b[39m\u001b[38;5;241m.\u001b[39mkeys:\n\u001b[0;32m    302\u001b[0m     \u001b[38;5;28;01mraise\u001b[39;00m \u001b[38;5;167;01mValueError\u001b[39;00m(\u001b[38;5;124m\"\u001b[39m\u001b[38;5;124mThe given key already exists\u001b[39m\u001b[38;5;124m\"\u001b[39m)\n\u001b[1;32m--> 303\u001b[0m Hs \u001b[38;5;241m=\u001b[39m [\u001b[38;5;28mself\u001b[39m\u001b[38;5;241m.\u001b[39m_H(\u001b[43mminhash\u001b[49m\u001b[38;5;241;43m.\u001b[39;49m\u001b[43mhashvalues\u001b[49m[start:end]) \u001b[38;5;28;01mfor\u001b[39;00m start, end \u001b[38;5;129;01min\u001b[39;00m \u001b[38;5;28mself\u001b[39m\u001b[38;5;241m.\u001b[39mhashranges]\n\u001b[0;32m    304\u001b[0m \u001b[38;5;28mself\u001b[39m\u001b[38;5;241m.\u001b[39mkeys\u001b[38;5;241m.\u001b[39minsert(key, \u001b[38;5;241m*\u001b[39mHs, buffer\u001b[38;5;241m=\u001b[39mbuffer)\n\u001b[0;32m    305\u001b[0m \u001b[38;5;28;01mfor\u001b[39;00m H, hashtable \u001b[38;5;129;01min\u001b[39;00m \u001b[38;5;28mzip\u001b[39m(Hs, \u001b[38;5;28mself\u001b[39m\u001b[38;5;241m.\u001b[39mhashtables):\n",
      "\u001b[1;31mAttributeError\u001b[0m: 'Tensor' object has no attribute 'hashvalues'"
     ]
    }
   ],
   "source": [
    "# Insert each min-hash signature into the LSH\n",
    "for idx, minhash in enumerate(outputs):\n",
    "    lsh.insert(idx, minhash)  # Use the DataFrame index as the unique ID"
   ]
  },
  {
   "cell_type": "code",
   "execution_count": null,
   "metadata": {},
   "outputs": [],
   "source": [
    "\n",
    "\n",
    "# Function to find similar items using LSH\n",
    "def find_similar(description, lsh, num_perm=128):\n",
    "    m = MinHash(num_perm=num_perm)\n",
    "    for word in description.split():\n",
    "        m.update(word.encode('utf8'))\n",
    "    return lsh.query(m)\n",
    "\n",
    "# save similaritities to dict\n",
    "bands = {}\n",
    "for idx in tqdm(range(len(outputs))):\n",
    "    bands[idx] = find_similar(df_minhash['description'][idx], lsh)\n"
   ]
  },
  {
   "cell_type": "code",
   "execution_count": 10,
   "metadata": {},
   "outputs": [
    {
     "ename": "NameError",
     "evalue": "name 'num_perm' is not defined",
     "output_type": "error",
     "traceback": [
      "\u001b[1;31m---------------------------------------------------------------------------\u001b[0m",
      "\u001b[1;31mNameError\u001b[0m                                 Traceback (most recent call last)",
      "Cell \u001b[1;32mIn[10], line 3\u001b[0m\n\u001b[0;32m      1\u001b[0m \u001b[38;5;28;01mfrom\u001b[39;00m \u001b[38;5;21;01mdatasketch\u001b[39;00m \u001b[38;5;28;01mimport\u001b[39;00m MinHash, MinHashLSH\n\u001b[1;32m----> 3\u001b[0m \u001b[38;5;28;01mdef\u001b[39;00m \u001b[38;5;21mrun_or_read_lsh\u001b[39m(run: \u001b[38;5;28mbool\u001b[39m, df_minhash, threshold, num_perm\u001b[38;5;241m=\u001b[39m\u001b[43mnum_perm\u001b[49m):\n\u001b[0;32m      5\u001b[0m     \u001b[38;5;28;01mif\u001b[39;00m run:\n\u001b[0;32m      6\u001b[0m         lsh \u001b[38;5;241m=\u001b[39m MinHashLSH(threshold\u001b[38;5;241m=\u001b[39mthreshold, num_perm\u001b[38;5;241m=\u001b[39mnum_perm)\n",
      "\u001b[1;31mNameError\u001b[0m: name 'num_perm' is not defined"
     ]
    }
   ],
   "source": [
    "\n",
    "\n",
    "def run_or_read_lsh(run: bool, df_minhash, threshold, num_perm=num_perm):\n",
    "\n",
    "    if run:\n",
    "        lsh = MinHashLSH(threshold=threshold, num_perm=num_perm)\n",
    "\n",
    "        # Insert each min-hash signature into the LSH\n",
    "        for idx, minhash in enumerate(df_minhash['minhash']):\n",
    "            lsh.insert(idx, minhash)  # Use the DataFrame index as the unique ID\n",
    "\n",
    "        # Function to find similar items using LSH\n",
    "        def find_similar(description, lsh, num_perm=128):\n",
    "            m = MinHash(num_perm=num_perm)\n",
    "            for word in description.split():\n",
    "                m.update(word.encode('utf8'))\n",
    "            return lsh.query(m)\n",
    "\n",
    "        # save similaritities to dict\n",
    "        bands = {}\n",
    "        for idx in tqdm(range(len(df_minhash))):\n",
    "            bands[idx] = find_similar(df_minhash['description'][idx], lsh)\n",
    "\n",
    "        # save similarities to file as pickle\n",
    "        with open(f'data/lsh_groups_{threshold}.pkl', 'wb') as f:\n",
    "            pickle.dump(bands, f)\n",
    "        print('LSH done and saved to lsh_groups.pkl')\n",
    "    else:\n",
    "        with open(f'data/lsh_groups_{threshold}.pkl', 'rb') as f:\n",
    "            bands = pickle.load(f)\n",
    "        print('LSH loaded from lsh_groups.pkl')\n",
    "    return bands\n",
    "\n"
   ]
  },
  {
   "cell_type": "code",
   "execution_count": 1,
   "metadata": {},
   "outputs": [
    {
     "data": {
      "text/plain": [
       "202"
      ]
     },
     "execution_count": 1,
     "metadata": {},
     "output_type": "execute_result"
    }
   ],
   "source": [
    "202"
   ]
  },
  {
   "cell_type": "code",
   "execution_count": null,
   "metadata": {},
   "outputs": [],
   "source": []
  }
 ],
 "metadata": {
  "kernelspec": {
   "display_name": "base",
   "language": "python",
   "name": "python3"
  },
  "language_info": {
   "codemirror_mode": {
    "name": "ipython",
    "version": 3
   },
   "file_extension": ".py",
   "mimetype": "text/x-python",
   "name": "python",
   "nbconvert_exporter": "python",
   "pygments_lexer": "ipython3",
   "version": "3.10.9"
  }
 },
 "nbformat": 4,
 "nbformat_minor": 2
}
