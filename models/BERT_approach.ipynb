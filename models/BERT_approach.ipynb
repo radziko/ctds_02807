{
 "cells": [
  {
   "cell_type": "markdown",
   "metadata": {},
   "source": [
    "# Bert implementation"
   ]
  },
  {
   "cell_type": "markdown",
   "metadata": {},
   "source": [
    "#### This ipynb is mostly for debugging BERT. Run the shell scripts for BERT as batch jobs in the HPC instead."
   ]
  },
  {
   "cell_type": "code",
   "execution_count": null,
   "metadata": {},
   "outputs": [],
   "source": [
    "#!pip install kagglehub\n",
    "import kagglehub\n",
    "import os\n",
    "import shutil\n",
    "from urllib.request import urlretrieve\n",
    "import numpy as np\n",
    "import pandas as pd\n",
    "from tqdm.notebook import tqdm\n",
    "import pickle\n",
    "\n",
    "#from datasketch import MinHash, MinHashLSH\n",
    "\n",
    "#set working dir to be one folder up\n",
    "os.chdir('..')"
   ]
  },
  {
   "cell_type": "markdown",
   "metadata": {},
   "source": [
    "# Load Data"
   ]
  },
  {
   "cell_type": "code",
   "execution_count": 2,
   "metadata": {},
   "outputs": [
    {
     "name": "stderr",
     "output_type": "stream",
     "text": [
      "/tmp/ipykernel_3083372/683732697.py:15: DtypeWarning: Columns (7,8) have mixed types. Specify dtype option on import or set low_memory=False.\n",
      "  imdb = pd.read_csv('data/imdb/movies.csv')\n"
     ]
    }
   ],
   "source": [
    "def load_data():\n",
    "    # Contains movieId, title, genres   \n",
    "    ml_movies = pd.read_csv('data/ml-32m/movies.csv')\n",
    "    \n",
    "    # Contains userId, movieId, rating, timestamp\n",
    "    ml_ratings = pd.read_csv('data/ml-32m/ratings.csv')\n",
    "    \n",
    "    # Contains userId, movieId, tag, timestamp\n",
    "    ml_tags = pd.read_csv('data/ml-32m/tags.csv')\n",
    "\n",
    "    # Contains movieId, imdbId, tmdbId\n",
    "    ml_links = pd.read_csv('data/ml-32m/links.csv')\n",
    "\n",
    "    # IMDB Dataset:\n",
    "    imdb = pd.read_csv('data/imdb/movies.csv')\n",
    "\n",
    "    return ml_movies, ml_ratings, ml_tags, ml_links, imdb\n",
    "\n",
    "ml_movies, ml_ratings, ml_tags, ml_links, imdb = load_data()"
   ]
  },
  {
   "cell_type": "code",
   "execution_count": 3,
   "metadata": {},
   "outputs": [
    {
     "name": "stderr",
     "output_type": "stream",
     "text": [
      "/tmp/ipykernel_3083372/493108502.py:6: SettingWithCopyWarning: \n",
      "A value is trying to be set on a copy of a slice from a DataFrame.\n",
      "Try using .loc[row_indexer,col_indexer] = value instead\n",
      "\n",
      "See the caveats in the documentation: https://pandas.pydata.org/pandas-docs/stable/user_guide/indexing.html#returning-a-view-versus-a-copy\n",
      "  imdb_descriptions['id'] = imdb_descriptions['id'].str[2:]\n",
      "/tmp/ipykernel_3083372/493108502.py:7: SettingWithCopyWarning: \n",
      "A value is trying to be set on a copy of a slice from a DataFrame.\n",
      "Try using .loc[row_indexer,col_indexer] = value instead\n",
      "\n",
      "See the caveats in the documentation: https://pandas.pydata.org/pandas-docs/stable/user_guide/indexing.html#returning-a-view-versus-a-copy\n",
      "  imdb_descriptions['id'] = pd.to_numeric(imdb_descriptions['id'], errors='coerce')\n"
     ]
    }
   ],
   "source": [
    "# Preprocessing IMDB:\n",
    "\n",
    "#drop if description is \"Add a plot\" because we have no description then\n",
    "imdb_descriptions = imdb[imdb['description'] != \"Add a Plot\"]\n",
    "\n",
    "imdb_descriptions['id'] = imdb_descriptions['id'].str[2:]\n",
    "imdb_descriptions['id'] = pd.to_numeric(imdb_descriptions['id'], errors='coerce')\n",
    "\n",
    "#keep what we need\n",
    "imdb_descriptions = imdb_descriptions[['id', 'description']]\n",
    "\n",
    "#merge them, so we have a li nk between the two datasets\n",
    "merged_links = ml_links.merge(imdb_descriptions, left_on='imdbId', right_on='id', how='inner').dropna(subset=['id'])"
   ]
  },
  {
   "cell_type": "code",
   "execution_count": 4,
   "metadata": {},
   "outputs": [
    {
     "data": {
      "text/html": [
       "<div>\n",
       "<style scoped>\n",
       "    .dataframe tbody tr th:only-of-type {\n",
       "        vertical-align: middle;\n",
       "    }\n",
       "\n",
       "    .dataframe tbody tr th {\n",
       "        vertical-align: top;\n",
       "    }\n",
       "\n",
       "    .dataframe thead th {\n",
       "        text-align: right;\n",
       "    }\n",
       "</style>\n",
       "<table border=\"1\" class=\"dataframe\">\n",
       "  <thead>\n",
       "    <tr style=\"text-align: right;\">\n",
       "      <th></th>\n",
       "      <th>movieId</th>\n",
       "      <th>title</th>\n",
       "      <th>genres</th>\n",
       "      <th>imdbId</th>\n",
       "      <th>tmdbId</th>\n",
       "      <th>id</th>\n",
       "      <th>description</th>\n",
       "    </tr>\n",
       "  </thead>\n",
       "  <tbody>\n",
       "    <tr>\n",
       "      <th>0</th>\n",
       "      <td>1</td>\n",
       "      <td>Toy Story (1995)</td>\n",
       "      <td>Adventure|Animation|Children|Comedy|Fantasy</td>\n",
       "      <td>114709</td>\n",
       "      <td>862.0</td>\n",
       "      <td>114709</td>\n",
       "      <td>A cowboy doll is profoundly threatened and jea...</td>\n",
       "    </tr>\n",
       "    <tr>\n",
       "      <th>1</th>\n",
       "      <td>2</td>\n",
       "      <td>Jumanji (1995)</td>\n",
       "      <td>Adventure|Children|Fantasy</td>\n",
       "      <td>113497</td>\n",
       "      <td>8844.0</td>\n",
       "      <td>113497</td>\n",
       "      <td>When two kids find and play a magical board ga...</td>\n",
       "    </tr>\n",
       "    <tr>\n",
       "      <th>2</th>\n",
       "      <td>6</td>\n",
       "      <td>Heat (1995)</td>\n",
       "      <td>Action|Crime|Thriller</td>\n",
       "      <td>113277</td>\n",
       "      <td>949.0</td>\n",
       "      <td>113277</td>\n",
       "      <td>A group of high-end professional thieves start...</td>\n",
       "    </tr>\n",
       "    <tr>\n",
       "      <th>3</th>\n",
       "      <td>8</td>\n",
       "      <td>Tom and Huck (1995)</td>\n",
       "      <td>Adventure|Children</td>\n",
       "      <td>112302</td>\n",
       "      <td>45325.0</td>\n",
       "      <td>112302</td>\n",
       "      <td>Two best friends witness a murder and embark o...</td>\n",
       "    </tr>\n",
       "    <tr>\n",
       "      <th>4</th>\n",
       "      <td>9</td>\n",
       "      <td>Sudden Death (1995)</td>\n",
       "      <td>Action</td>\n",
       "      <td>114576</td>\n",
       "      <td>9091.0</td>\n",
       "      <td>114576</td>\n",
       "      <td>A former fireman takes on a group of terrorist...</td>\n",
       "    </tr>\n",
       "    <tr>\n",
       "      <th>...</th>\n",
       "      <td>...</td>\n",
       "      <td>...</td>\n",
       "      <td>...</td>\n",
       "      <td>...</td>\n",
       "      <td>...</td>\n",
       "      <td>...</td>\n",
       "      <td>...</td>\n",
       "    </tr>\n",
       "    <tr>\n",
       "      <th>51855</th>\n",
       "      <td>292541</td>\n",
       "      <td>The Settlers (2023)</td>\n",
       "      <td>Drama|Western</td>\n",
       "      <td>10370812</td>\n",
       "      <td>989589.0</td>\n",
       "      <td>10370812</td>\n",
       "      <td>A mixed-race Chilean, rides south on an expedi...</td>\n",
       "    </tr>\n",
       "    <tr>\n",
       "      <th>51856</th>\n",
       "      <td>292585</td>\n",
       "      <td>Night Crawlers (2009)</td>\n",
       "      <td>Comedy|Horror</td>\n",
       "      <td>985060</td>\n",
       "      <td>147230.0</td>\n",
       "      <td>985060</td>\n",
       "      <td>Blood is thicker than water in this tiny Texas...</td>\n",
       "    </tr>\n",
       "    <tr>\n",
       "      <th>51857</th>\n",
       "      <td>292605</td>\n",
       "      <td>Our River... Our Sky (2023)</td>\n",
       "      <td>Drama|War</td>\n",
       "      <td>10676126</td>\n",
       "      <td>855800.0</td>\n",
       "      <td>10676126</td>\n",
       "      <td>Baghdad. The last week of 2006. All over the c...</td>\n",
       "    </tr>\n",
       "    <tr>\n",
       "      <th>51858</th>\n",
       "      <td>292613</td>\n",
       "      <td>Freelance (2023)</td>\n",
       "      <td>Action|Comedy</td>\n",
       "      <td>15744298</td>\n",
       "      <td>897087.0</td>\n",
       "      <td>15744298</td>\n",
       "      <td>An ex special forces operator takes a job to p...</td>\n",
       "    </tr>\n",
       "    <tr>\n",
       "      <th>51859</th>\n",
       "      <td>292627</td>\n",
       "      <td>All Fun and Games (2023)</td>\n",
       "      <td>Horror|Thriller</td>\n",
       "      <td>10092698</td>\n",
       "      <td>926599.0</td>\n",
       "      <td>10092698</td>\n",
       "      <td>There's a strange element of cruelty that's em...</td>\n",
       "    </tr>\n",
       "  </tbody>\n",
       "</table>\n",
       "<p>51860 rows × 7 columns</p>\n",
       "</div>"
      ],
      "text/plain": [
       "       movieId                        title  \\\n",
       "0            1             Toy Story (1995)   \n",
       "1            2               Jumanji (1995)   \n",
       "2            6                  Heat (1995)   \n",
       "3            8          Tom and Huck (1995)   \n",
       "4            9          Sudden Death (1995)   \n",
       "...        ...                          ...   \n",
       "51855   292541          The Settlers (2023)   \n",
       "51856   292585        Night Crawlers (2009)   \n",
       "51857   292605  Our River... Our Sky (2023)   \n",
       "51858   292613             Freelance (2023)   \n",
       "51859   292627     All Fun and Games (2023)   \n",
       "\n",
       "                                            genres    imdbId    tmdbId  \\\n",
       "0      Adventure|Animation|Children|Comedy|Fantasy    114709     862.0   \n",
       "1                       Adventure|Children|Fantasy    113497    8844.0   \n",
       "2                            Action|Crime|Thriller    113277     949.0   \n",
       "3                               Adventure|Children    112302   45325.0   \n",
       "4                                           Action    114576    9091.0   \n",
       "...                                            ...       ...       ...   \n",
       "51855                                Drama|Western  10370812  989589.0   \n",
       "51856                                Comedy|Horror    985060  147230.0   \n",
       "51857                                    Drama|War  10676126  855800.0   \n",
       "51858                                Action|Comedy  15744298  897087.0   \n",
       "51859                              Horror|Thriller  10092698  926599.0   \n",
       "\n",
       "             id                                        description  \n",
       "0        114709  A cowboy doll is profoundly threatened and jea...  \n",
       "1        113497  When two kids find and play a magical board ga...  \n",
       "2        113277  A group of high-end professional thieves start...  \n",
       "3        112302  Two best friends witness a murder and embark o...  \n",
       "4        114576  A former fireman takes on a group of terrorist...  \n",
       "...         ...                                                ...  \n",
       "51855  10370812  A mixed-race Chilean, rides south on an expedi...  \n",
       "51856    985060  Blood is thicker than water in this tiny Texas...  \n",
       "51857  10676126  Baghdad. The last week of 2006. All over the c...  \n",
       "51858  15744298  An ex special forces operator takes a job to p...  \n",
       "51859  10092698  There's a strange element of cruelty that's em...  \n",
       "\n",
       "[51860 rows x 7 columns]"
      ]
     },
     "execution_count": 4,
     "metadata": {},
     "output_type": "execute_result"
    }
   ],
   "source": [
    "#merge the movies with the descriptions if that is what we want\n",
    "ml_movies_description = ml_movies.merge(merged_links, left_on='movieId', right_on='movieId', how='inner')\n",
    "\n",
    "ml_movies_description\n",
    "#ml_movies_description.to_csv('data/movies_with_description.csv', index=False)"
   ]
  },
  {
   "cell_type": "markdown",
   "metadata": {},
   "source": [
    "# Define model and tokenize"
   ]
  },
  {
   "cell_type": "code",
   "execution_count": null,
   "metadata": {},
   "outputs": [],
   "source": [
    "from transformers import BertTokenizer, BertModel\n",
    "import torch\n",
    "\n",
    "tokenizer = BertTokenizer.from_pretrained('bert-base-uncased')\n",
    "model = BertModel.from_pretrained('bert-base-uncased')\n",
    "inputs = tokenizer(ml_movies_description['description'].tolist(), return_tensors=\"pt\", padding=True, truncation=True)"
   ]
  },
  {
   "cell_type": "markdown",
   "metadata": {},
   "source": [
    "# Run through model"
   ]
  },
  {
   "cell_type": "code",
   "execution_count": 9,
   "metadata": {},
   "outputs": [
    {
     "name": "stderr",
     "output_type": "stream",
     "text": [
      "  0%|          | 0/406 [00:00<?, ?it/s]"
     ]
    },
    {
     "name": "stderr",
     "output_type": "stream",
     "text": [
      "100%|██████████| 406/406 [01:12<00:00,  5.58it/s]\n"
     ]
    }
   ],
   "source": [
    "import torch\n",
    "from tqdm import tqdm\n",
    "outputs = []\n",
    "model = model.to(\"cuda\")\n",
    "inputs = inputs.to(\"cuda\")\n",
    "batch_size = 64\n",
    "#without saving gradients to avoid gpu memory issues/leaks\n",
    "# if outputs file exists, load it, else run the model\n",
    "if os.path.exists('/work3/s204161/embeddings.npy'):\n",
    "    outputs = torch.load('/work3/s204161/embeddings.npy')\n",
    "else:\n",
    "    with torch.no_grad():\n",
    "        for i in tqdm(range(0, len(inputs['input_ids']), batch_size)):\n",
    "            batch = inputs['input_ids'][i:i+batch_size]\n",
    "            attention_mask = inputs['attention_mask'][i:i+batch_size]\n",
    "            output = model(batch, attention_mask=attention_mask).last_hidden_state\n",
    "            #output = model(batch, attention_mask=attention_mask)['logits']\n",
    "\n",
    "            #send the output to the cpu afterwards to avoid memory issues on the gpu\n",
    "            outputs.append(output.detach().cpu())\n",
    "\n",
    "    #make list of tensors into one tensor\n",
    "    outputs = torch.cat(outputs)\n",
    "    np.save('/work3/s204161/embeddings.npy', outputs.numpy())\n",
    "\n",
    "print(\"done...\")\n",
    "embeddings = outputs"
   ]
  },
  {
   "cell_type": "code",
   "execution_count": 8,
   "metadata": {},
   "outputs": [
    {
     "name": "stderr",
     "output_type": "stream",
     "text": [
      "/work3/s204161/miniconda/lib/python3.10/site-packages/sklearn/cluster/_kmeans.py:870: FutureWarning: The default value of `n_init` will change from 3 to 'auto' in 1.4. Set the value of `n_init` explicitly to suppress the warning\n",
      "  warnings.warn(\n"
     ]
    }
   ],
   "source": [
    "from sklearn.cluster import MiniBatchKMeans\n",
    "\n",
    "# dont standardize embeddings vector to have mean 0 and std 1 ... because for our hidden weights, some features ARE more important than others...\n",
    "# embeddings = embeddings - embeddings.mean(axis=0)\n",
    "# embeddings = embeddings / embeddings.std(axis=0)\n",
    "\n",
    "# Define MiniBatch K-Means\n",
    "mini_batch_kmeans = MiniBatchKMeans(n_clusters=200, batch_size=1000, random_state=42)\n",
    "mini_batch_kmeans.fit(embeddings)\n",
    "\n",
    "# Get cluster labels\n",
    "import copy\n",
    "labels = copy.deepcopy(mini_batch_kmeans.labels_)\n",
    "centers = copy.deepcopy(mini_batch_kmeans.cluster_centers_)\n"
   ]
  },
  {
   "cell_type": "code",
   "execution_count": null,
   "metadata": {},
   "outputs": [
    {
     "name": "stderr",
     "output_type": "stream",
     "text": [
      "100%|██████████| 200/200 [00:17<00:00, 11.69it/s]\n"
     ]
    }
   ],
   "source": [
    "## for sparse clusters of length < 5 join them with neighbouring clusters\n",
    "# get the number of movies in each cluster\n",
    "unique, counts = np.unique(labels, return_counts=True)\n",
    "cluster_counts = dict(zip(unique, counts))\n",
    "\n",
    "# get the number of clusters\n",
    "n_clusters = len(cluster_counts)\n",
    "from tqdm import tqdm\n",
    "\n",
    "# merge clusters with less than 5 movies\n",
    "for cluster, count in tqdm(list(cluster_counts.items())):  # Iterate over a copy of the dictionary\n",
    "    if count < 5:\n",
    "        while True:  # Find a valid cluster to merge into\n",
    "            distances = np.linalg.norm(centers - centers[cluster], axis=1)\n",
    "            distances[cluster] = np.inf  # Avoid merging a cluster with itself\n",
    "            closest_cluster = np.argmin(distances)\n",
    "            \n",
    "            # Check if the closest cluster is valid\n",
    "            if closest_cluster in cluster_counts:\n",
    "                break  # Exit the loop once a valid cluster is found\n",
    "            \n",
    "            # If not valid, continue searching\n",
    "            distances[closest_cluster] = np.inf\n",
    "\n",
    "        # merge the clusters\n",
    "        labels[labels == cluster] = closest_cluster\n",
    "        \n",
    "        # update the cluster counts\n",
    "        cluster_counts[closest_cluster] += count\n",
    "        cluster_counts.pop(cluster)\n",
    "        n_clusters -= 1\n",
    "np.save(\"data/bert_clusters.npy\",labels)"
   ]
  },
  {
   "cell_type": "code",
   "execution_count": 112,
   "metadata": {},
   "outputs": [],
   "source": [
    "from scipy.spatial.distance import jaccard as jacc_score\n",
    "\n",
    "hac =[]\n",
    "for out in embeddings:#[np.argwhere(labels==20)]:\n",
    "    #calculate the jaccard similarity between the first output and the rest\n",
    "    jaccard = jacc_score(embeddings[0], out)\n",
    "    hac.append(jaccard)"
   ]
  },
  {
   "cell_type": "code",
   "execution_count": 113,
   "metadata": {},
   "outputs": [
    {
     "data": {
      "text/plain": [
       "movieId                                                                                                                              1\n",
       "title                                                                                                                 Toy Story (1995)\n",
       "genres                                                                                     Adventure|Animation|Children|Comedy|Fantasy\n",
       "imdbId                                                                                                                          114709\n",
       "tmdbId                                                                                                                           862.0\n",
       "id                                                                                                                              114709\n",
       "description    A cowboy doll is profoundly threatened and jealous when a new spaceman figure supplants him as top toy in a boy's room.\n",
       "Name: 0, dtype: object"
      ]
     },
     "execution_count": 113,
     "metadata": {},
     "output_type": "execute_result"
    }
   ],
   "source": [
    "pd.set_option('display.max_colwidth', None)\n",
    "ml_movies_description.iloc[0]"
   ]
  },
  {
   "cell_type": "code",
   "execution_count": 4,
   "metadata": {},
   "outputs": [
    {
     "data": {
      "text/plain": [
       "51860"
      ]
     },
     "execution_count": 4,
     "metadata": {},
     "output_type": "execute_result"
    }
   ],
   "source": [
    "#load in numpy file\n",
    "import numpy as np\n",
    "clusters = np.load('../data/bert_clusters.npy')\n",
    "#add clusters to df\n",
    "len(clusters)\n",
    "#ml_movies_description['cluster_label'] = clusters\n",
    "#save df\n",
    "# ml_movies_description.to_csv('data/df_clusters.csv', index=False)"
   ]
  }
 ],
 "metadata": {
  "kernelspec": {
   "display_name": "base",
   "language": "python",
   "name": "python3"
  },
  "language_info": {
   "codemirror_mode": {
    "name": "ipython",
    "version": 3
   },
   "file_extension": ".py",
   "mimetype": "text/x-python",
   "name": "python",
   "nbconvert_exporter": "python",
   "pygments_lexer": "ipython3",
   "version": "3.10.9"
  }
 },
 "nbformat": 4,
 "nbformat_minor": 2
}
