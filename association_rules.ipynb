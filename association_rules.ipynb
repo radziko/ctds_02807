{
 "cells": [
  {
   "cell_type": "code",
   "execution_count": 2,
   "metadata": {},
   "outputs": [],
   "source": [
    "### IMPORTS ###\n",
    "\n",
    "import numpy as np\n",
    "import matplotlib.pyplot as plt\n",
    "import pandas as pd\n",
    "from tqdm import tqdm"
   ]
  },
  {
   "cell_type": "markdown",
   "metadata": {},
   "source": [
    "## Analysis of movies"
   ]
  },
  {
   "cell_type": "code",
   "execution_count": 3,
   "metadata": {},
   "outputs": [
    {
     "data": {
      "text/html": [
       "<div>\n",
       "<style scoped>\n",
       "    .dataframe tbody tr th:only-of-type {\n",
       "        vertical-align: middle;\n",
       "    }\n",
       "\n",
       "    .dataframe tbody tr th {\n",
       "        vertical-align: top;\n",
       "    }\n",
       "\n",
       "    .dataframe thead th {\n",
       "        text-align: right;\n",
       "    }\n",
       "</style>\n",
       "<table border=\"1\" class=\"dataframe\">\n",
       "  <thead>\n",
       "    <tr style=\"text-align: right;\">\n",
       "      <th></th>\n",
       "      <th>movieId</th>\n",
       "      <th>title</th>\n",
       "      <th>genres</th>\n",
       "      <th>imdbId</th>\n",
       "      <th>tmdbId</th>\n",
       "      <th>id</th>\n",
       "      <th>description</th>\n",
       "    </tr>\n",
       "  </thead>\n",
       "  <tbody>\n",
       "    <tr>\n",
       "      <th>0</th>\n",
       "      <td>1</td>\n",
       "      <td>Toy Story (1995)</td>\n",
       "      <td>Adventure|Animation|Children|Comedy|Fantasy</td>\n",
       "      <td>114709</td>\n",
       "      <td>862.0</td>\n",
       "      <td>114709</td>\n",
       "      <td>A cowboy doll is profoundly threatened and jea...</td>\n",
       "    </tr>\n",
       "    <tr>\n",
       "      <th>1</th>\n",
       "      <td>2</td>\n",
       "      <td>Jumanji (1995)</td>\n",
       "      <td>Adventure|Children|Fantasy</td>\n",
       "      <td>113497</td>\n",
       "      <td>8844.0</td>\n",
       "      <td>113497</td>\n",
       "      <td>When two kids find and play a magical board ga...</td>\n",
       "    </tr>\n",
       "    <tr>\n",
       "      <th>2</th>\n",
       "      <td>6</td>\n",
       "      <td>Heat (1995)</td>\n",
       "      <td>Action|Crime|Thriller</td>\n",
       "      <td>113277</td>\n",
       "      <td>949.0</td>\n",
       "      <td>113277</td>\n",
       "      <td>A group of high-end professional thieves start...</td>\n",
       "    </tr>\n",
       "    <tr>\n",
       "      <th>3</th>\n",
       "      <td>8</td>\n",
       "      <td>Tom and Huck (1995)</td>\n",
       "      <td>Adventure|Children</td>\n",
       "      <td>112302</td>\n",
       "      <td>45325.0</td>\n",
       "      <td>112302</td>\n",
       "      <td>Two best friends witness a murder and embark o...</td>\n",
       "    </tr>\n",
       "    <tr>\n",
       "      <th>4</th>\n",
       "      <td>9</td>\n",
       "      <td>Sudden Death (1995)</td>\n",
       "      <td>Action</td>\n",
       "      <td>114576</td>\n",
       "      <td>9091.0</td>\n",
       "      <td>114576</td>\n",
       "      <td>A former fireman takes on a group of terrorist...</td>\n",
       "    </tr>\n",
       "  </tbody>\n",
       "</table>\n",
       "</div>"
      ],
      "text/plain": [
       "   movieId                title                                       genres  \\\n",
       "0        1     Toy Story (1995)  Adventure|Animation|Children|Comedy|Fantasy   \n",
       "1        2       Jumanji (1995)                   Adventure|Children|Fantasy   \n",
       "2        6          Heat (1995)                        Action|Crime|Thriller   \n",
       "3        8  Tom and Huck (1995)                           Adventure|Children   \n",
       "4        9  Sudden Death (1995)                                       Action   \n",
       "\n",
       "   imdbId   tmdbId      id                                        description  \n",
       "0  114709    862.0  114709  A cowboy doll is profoundly threatened and jea...  \n",
       "1  113497   8844.0  113497  When two kids find and play a magical board ga...  \n",
       "2  113277    949.0  113277  A group of high-end professional thieves start...  \n",
       "3  112302  45325.0  112302  Two best friends witness a murder and embark o...  \n",
       "4  114576   9091.0  114576  A former fireman takes on a group of terrorist...  "
      ]
     },
     "execution_count": 3,
     "metadata": {},
     "output_type": "execute_result"
    }
   ],
   "source": [
    "# load movie data\n",
    "movies = pd.read_pickle('data/imdb/ml_movies_description.pkl')\n",
    "\n",
    "movies.head()"
   ]
  },
  {
   "cell_type": "code",
   "execution_count": 4,
   "metadata": {},
   "outputs": [
    {
     "name": "stdout",
     "output_type": "stream",
     "text": [
      "Number of unique movie ids:  51860\n"
     ]
    }
   ],
   "source": [
    "# get a list of unique movie ids\n",
    "movie_ids_imdb = movies['movieId'].unique()\n",
    "\n",
    "# print the number of unique movie ids\n",
    "print('Number of unique movie ids: ', len(movie_ids_imdb))"
   ]
  },
  {
   "cell_type": "markdown",
   "metadata": {},
   "source": [
    "## Analysis of ratings"
   ]
  },
  {
   "cell_type": "code",
   "execution_count": 5,
   "metadata": {},
   "outputs": [
    {
     "data": {
      "text/html": [
       "<div>\n",
       "<style scoped>\n",
       "    .dataframe tbody tr th:only-of-type {\n",
       "        vertical-align: middle;\n",
       "    }\n",
       "\n",
       "    .dataframe tbody tr th {\n",
       "        vertical-align: top;\n",
       "    }\n",
       "\n",
       "    .dataframe thead th {\n",
       "        text-align: right;\n",
       "    }\n",
       "</style>\n",
       "<table border=\"1\" class=\"dataframe\">\n",
       "  <thead>\n",
       "    <tr style=\"text-align: right;\">\n",
       "      <th></th>\n",
       "      <th>userId</th>\n",
       "      <th>movieId</th>\n",
       "      <th>rating</th>\n",
       "      <th>timestamp</th>\n",
       "    </tr>\n",
       "  </thead>\n",
       "  <tbody>\n",
       "    <tr>\n",
       "      <th>0</th>\n",
       "      <td>1</td>\n",
       "      <td>17</td>\n",
       "      <td>4.0</td>\n",
       "      <td>944249077</td>\n",
       "    </tr>\n",
       "    <tr>\n",
       "      <th>1</th>\n",
       "      <td>1</td>\n",
       "      <td>25</td>\n",
       "      <td>1.0</td>\n",
       "      <td>944250228</td>\n",
       "    </tr>\n",
       "    <tr>\n",
       "      <th>2</th>\n",
       "      <td>1</td>\n",
       "      <td>29</td>\n",
       "      <td>2.0</td>\n",
       "      <td>943230976</td>\n",
       "    </tr>\n",
       "    <tr>\n",
       "      <th>3</th>\n",
       "      <td>1</td>\n",
       "      <td>30</td>\n",
       "      <td>5.0</td>\n",
       "      <td>944249077</td>\n",
       "    </tr>\n",
       "    <tr>\n",
       "      <th>4</th>\n",
       "      <td>1</td>\n",
       "      <td>32</td>\n",
       "      <td>5.0</td>\n",
       "      <td>943228858</td>\n",
       "    </tr>\n",
       "  </tbody>\n",
       "</table>\n",
       "</div>"
      ],
      "text/plain": [
       "   userId  movieId  rating  timestamp\n",
       "0       1       17     4.0  944249077\n",
       "1       1       25     1.0  944250228\n",
       "2       1       29     2.0  943230976\n",
       "3       1       30     5.0  944249077\n",
       "4       1       32     5.0  943228858"
      ]
     },
     "execution_count": 5,
     "metadata": {},
     "output_type": "execute_result"
    }
   ],
   "source": [
    "# load ratings\n",
    "ratings = pd.read_csv('data/ml-32m/ratings.csv')\n",
    "\n",
    "ratings.head()"
   ]
  },
  {
   "cell_type": "code",
   "execution_count": 6,
   "metadata": {},
   "outputs": [
    {
     "name": "stdout",
     "output_type": "stream",
     "text": [
      "Number of unique user ids:  84432\n"
     ]
    }
   ],
   "source": [
    "# get a list of unique user ids\n",
    "movie_ids_ml = ratings['movieId'].unique()\n",
    "\n",
    "# print the number of unique user ids\n",
    "print('Number of unique user ids: ', len(movie_ids_ml))"
   ]
  },
  {
   "cell_type": "code",
   "execution_count": 7,
   "metadata": {},
   "outputs": [
    {
     "name": "stdout",
     "output_type": "stream",
     "text": [
      "Number of common movie ids:  49892\n",
      "Number of ratings:  25723135\n",
      "Number of unique users:  200947\n"
     ]
    }
   ],
   "source": [
    "### DATA PREPROCESSING ###\n",
    "\n",
    "# get the intersection of movie ids\n",
    "movie_ids = np.intersect1d(movie_ids_imdb, movie_ids_ml)\n",
    "print('Number of common movie ids: ', len(movie_ids))\n",
    "\n",
    "# filter the ratings data to contain only the common movie ids\n",
    "ratings = ratings[ratings['movieId'].isin(movie_ids)]\n",
    "\n",
    "# drop timestamp column\n",
    "ratings = ratings.drop('timestamp', axis=1)\n",
    "\n",
    "# print the number of ratings\n",
    "print('Number of ratings: ', len(ratings))\n",
    "\n",
    "# get the number of unique users\n",
    "user_ids = ratings['userId'].unique()\n",
    "\n",
    "# print the number of unique users\n",
    "print('Number of unique users: ', len(user_ids))"
   ]
  },
  {
   "cell_type": "code",
   "execution_count": 8,
   "metadata": {},
   "outputs": [
    {
     "name": "stdout",
     "output_type": "stream",
     "text": [
      "Number of ratings 4 or 5:  12782088\n"
     ]
    },
    {
     "data": {
      "text/html": [
       "<div>\n",
       "<style scoped>\n",
       "    .dataframe tbody tr th:only-of-type {\n",
       "        vertical-align: middle;\n",
       "    }\n",
       "\n",
       "    .dataframe tbody tr th {\n",
       "        vertical-align: top;\n",
       "    }\n",
       "\n",
       "    .dataframe thead th {\n",
       "        text-align: right;\n",
       "    }\n",
       "</style>\n",
       "<table border=\"1\" class=\"dataframe\">\n",
       "  <thead>\n",
       "    <tr style=\"text-align: right;\">\n",
       "      <th></th>\n",
       "      <th>userId</th>\n",
       "      <th>movieId</th>\n",
       "      <th>rating</th>\n",
       "    </tr>\n",
       "  </thead>\n",
       "  <tbody>\n",
       "    <tr>\n",
       "      <th>3</th>\n",
       "      <td>1</td>\n",
       "      <td>30</td>\n",
       "      <td>5.0</td>\n",
       "    </tr>\n",
       "    <tr>\n",
       "      <th>4</th>\n",
       "      <td>1</td>\n",
       "      <td>32</td>\n",
       "      <td>5.0</td>\n",
       "    </tr>\n",
       "    <tr>\n",
       "      <th>9</th>\n",
       "      <td>1</td>\n",
       "      <td>111</td>\n",
       "      <td>5.0</td>\n",
       "    </tr>\n",
       "    <tr>\n",
       "      <th>11</th>\n",
       "      <td>1</td>\n",
       "      <td>166</td>\n",
       "      <td>5.0</td>\n",
       "    </tr>\n",
       "    <tr>\n",
       "      <th>15</th>\n",
       "      <td>1</td>\n",
       "      <td>260</td>\n",
       "      <td>5.0</td>\n",
       "    </tr>\n",
       "  </tbody>\n",
       "</table>\n",
       "</div>"
      ],
      "text/plain": [
       "    userId  movieId  rating\n",
       "3        1       30     5.0\n",
       "4        1       32     5.0\n",
       "9        1      111     5.0\n",
       "11       1      166     5.0\n",
       "15       1      260     5.0"
      ]
     },
     "execution_count": 8,
     "metadata": {},
     "output_type": "execute_result"
    }
   ],
   "source": [
    "### CREATE LIKED MOVIES DATAFRAME ###\n",
    "# create a dataframe to only store ratings of 4 or 5\n",
    "liked_movies = ratings[ratings['rating'] >= 4]\n",
    "\n",
    "# print the number of liked movies\n",
    "print('Number of ratings 4 or 5: ', len(liked_movies))\n",
    "\n",
    "liked_movies.head()\n",
    "\n"
   ]
  },
  {
   "cell_type": "code",
   "execution_count": 9,
   "metadata": {},
   "outputs": [],
   "source": [
    "### Create basket data ###\n",
    "# create a basket data\n",
    "baskets = liked_movies.groupby('userId')['movieId'].apply(list).reset_index(name='basket')\n",
    "items = np.unique(np.concatenate(baskets['basket']))"
   ]
  },
  {
   "cell_type": "code",
   "execution_count": 10,
   "metadata": {},
   "outputs": [
    {
     "data": {
      "text/html": [
       "<div>\n",
       "<style scoped>\n",
       "    .dataframe tbody tr th:only-of-type {\n",
       "        vertical-align: middle;\n",
       "    }\n",
       "\n",
       "    .dataframe tbody tr th {\n",
       "        vertical-align: top;\n",
       "    }\n",
       "\n",
       "    .dataframe thead th {\n",
       "        text-align: right;\n",
       "    }\n",
       "</style>\n",
       "<table border=\"1\" class=\"dataframe\">\n",
       "  <thead>\n",
       "    <tr style=\"text-align: right;\">\n",
       "      <th></th>\n",
       "      <th>hashcode</th>\n",
       "    </tr>\n",
       "  </thead>\n",
       "  <tbody>\n",
       "    <tr>\n",
       "      <th>1</th>\n",
       "      <td>0</td>\n",
       "    </tr>\n",
       "    <tr>\n",
       "      <th>2</th>\n",
       "      <td>1</td>\n",
       "    </tr>\n",
       "    <tr>\n",
       "      <th>6</th>\n",
       "      <td>2</td>\n",
       "    </tr>\n",
       "    <tr>\n",
       "      <th>8</th>\n",
       "      <td>3</td>\n",
       "    </tr>\n",
       "    <tr>\n",
       "      <th>9</th>\n",
       "      <td>4</td>\n",
       "    </tr>\n",
       "  </tbody>\n",
       "</table>\n",
       "</div>"
      ],
      "text/plain": [
       "   hashcode\n",
       "1         0\n",
       "2         1\n",
       "6         2\n",
       "8         3\n",
       "9         4"
      ]
     },
     "execution_count": 10,
     "metadata": {},
     "output_type": "execute_result"
    }
   ],
   "source": [
    "# create a a DataFrame to hash items to integers\n",
    "#df_item_hash = pd.DataFrame({'item': items, 'hashcode': range(len(items))}).set_index('item')\n",
    "df_item_hash = pd.DataFrame(range(len(items)), index=items, columns=['hashcode'])\n",
    "\n",
    "df_item_hash.head()"
   ]
  },
  {
   "cell_type": "code",
   "execution_count": 11,
   "metadata": {},
   "outputs": [],
   "source": [
    "# Count the occurrences of each item and store in an array\n",
    "### SLOW ###\n",
    "#item_count_arr = np.zeros((len(items), 1))\n",
    "#for basket in tqdm(baskets['basket']):\n",
    "#    for item in basket:\n",
    "#        idx = df_item_hash.loc[item, 'hashcode']\n",
    "#        item_count_arr[idx] += 1\n",
    "\n",
    "# Count the occurrences of each item and store in an array\n",
    "item_count_arr = np.zeros((len(items), 1))\n",
    "\n",
    "# Flatten the list of baskets and get the corresponding hashcodes\n",
    "flattened_baskets = np.concatenate(baskets['basket'].values)\n",
    "hashcodes = df_item_hash.loc[flattened_baskets, 'hashcode'].values\n",
    "\n",
    "# Use np.bincount to count occurrences of each hashcode\n",
    "item_count_arr[:len(np.bincount(hashcodes))] = np.bincount(hashcodes).reshape(-1, 1)"
   ]
  },
  {
   "cell_type": "code",
   "execution_count": 12,
   "metadata": {},
   "outputs": [
    {
     "name": "stderr",
     "output_type": "stream",
     "text": [
      "100%|██████████| 1965/1965 [00:00<00:00, 17884.62it/s]\n"
     ]
    },
    {
     "data": {
      "text/plain": [
       "array([     1,      2,      6, ..., 270698, 274053, 278702])"
      ]
     },
     "execution_count": 12,
     "metadata": {},
     "output_type": "execute_result"
    }
   ],
   "source": [
    "# find frequent items (items that appear in more than 0.5% of the baskets)\n",
    "freq_items = np.array([df_item_hash[df_item_hash['hashcode'] == x].index[0] for x in tqdm(np.where(item_count_arr > 0.005 * len(baskets))[0])])\n",
    "freq_items"
   ]
  },
  {
   "cell_type": "code",
   "execution_count": 13,
   "metadata": {},
   "outputs": [],
   "source": [
    "### THIS IS SLOW ###\n",
    "\n",
    "### hash the frequent items (starting from 1)\n",
    "#df_freq_item_hash = pd.DataFrame(range(1,len(freq_items)+1), index=freq_items, columns=['hashcode'])\n",
    "\n",
    "# create a matrix to store the pair counts\n",
    "#pair_mat_hashed = np.zeros((len(freq_items)+1, len(freq_items)+1))\n",
    "\n",
    "#for b in tqdm(baskets['basket']):\n",
    "#    cand_list = [item for item in b if item in freq_items]\n",
    "#    if len(cand_list)<2:\n",
    "#        continue\n",
    "#    for idx, item1 in enumerate(cand_list):\n",
    "#        for item2 in cand_list[idx+1:]:\n",
    "#            i = df_freq_item_hash.loc[item1,'hashcode'] \n",
    "#            j = df_freq_item_hash.loc[item2,'hashcode'] \n",
    "#            pair_mat_hashed[max(i,j),min(i,j)]+=1\n",
    "\n",
    "# pair_mat\n",
    "#pair_mat_hashed"
   ]
  },
  {
   "cell_type": "code",
   "execution_count": 14,
   "metadata": {},
   "outputs": [
    {
     "name": "stderr",
     "output_type": "stream",
     "text": [
      "100%|██████████| 200612/200612 [00:23<00:00, 8418.15it/s] \n"
     ]
    },
    {
     "data": {
      "text/plain": [
       "array([[   0.,    0.,    0., ...,    0.,    0.,    0.],\n",
       "       [   0.,    0.,    0., ...,    0.,    0.,    0.],\n",
       "       [   0., 4920.,    0., ...,    0.,    0.,    0.],\n",
       "       ...,\n",
       "       [   0.,  976.,  319., ...,    0.,    0.,    0.],\n",
       "       [   0.,  724.,  241., ...,  707.,    0.,    0.],\n",
       "       [   0.,  417.,  176., ...,  601.,  358.,    0.]])"
      ]
     },
     "execution_count": 14,
     "metadata": {},
     "output_type": "execute_result"
    }
   ],
   "source": [
    "# Create a matrix to store the pair counts\n",
    "pair_mat_hashed = np.zeros((len(freq_items)+1, len(freq_items)+1))\n",
    "\n",
    "# Create a dictionary for quick lookup of hashcodes\n",
    "df_freq_item_hash = pd.DataFrame(range(1,len(freq_items)+1), index=freq_items, columns=['hashcode'])\n",
    "\n",
    "hashcode_dict = df_freq_item_hash['hashcode'].to_dict()\n",
    "\n",
    "for b in tqdm(baskets['basket']):\n",
    "    # Filter items in the basket to only those in hashcode_dict\n",
    "    cand_list = [hashcode_dict[item] for item in b if item in hashcode_dict]\n",
    "    if len(cand_list) < 2:\n",
    "        continue\n",
    "    \n",
    "    # Convert cand_list to a numpy array\n",
    "    cand_list = np.array(cand_list)\n",
    "    \n",
    "    # Get unique pairs of indices\n",
    "    i_indices = np.maximum.outer(cand_list, cand_list)\n",
    "    j_indices = np.minimum.outer(cand_list, cand_list)\n",
    "    \n",
    "    # Increment only unique pairs (i, j) where i > j\n",
    "    unique_pairs = np.triu_indices_from(i_indices, k=1)\n",
    "    pair_mat_hashed[i_indices[unique_pairs], j_indices[unique_pairs]] += 1\n",
    "\n",
    "# Display the pair matrix\n",
    "pair_mat_hashed\n"
   ]
  },
  {
   "cell_type": "code",
   "execution_count": null,
   "metadata": {},
   "outputs": [
    {
     "name": "stdout",
     "output_type": "stream",
     "text": [
      "(array([  15,   21,   21, ..., 1832, 1832, 1877]), array([   1,    1,    3, ..., 1616, 1770, 1616]))\n",
      "Number of frequent pairs:  2223\n"
     ]
    }
   ],
   "source": [
    "# Get frequent pairs (pairs that appear in more than 0.05% of the baskets - support = 0.0005)\n",
    "# Extract frequent pairs that exceed support s2 (assume s2 = 0.02), and hash back.\n",
    "\n",
    "# Find indices where pair counts exceed the threshold\n",
    "pair_indices = np.where(pair_mat_hashed > 0.05 * len(baskets))\n",
    "\n",
    "# Extract frequent pairs and hash back\n",
    "freq_pairs = np.array([\n",
    "    [df_freq_item_hash.index[x-1], df_freq_item_hash.index[y-1]]\n",
    "    for x, y in zip(pair_indices[0], pair_indices[1])\n",
    "])\n",
    "\n",
    "print('Number of frequent pairs: ', len(freq_pairs))\n",
    "\n",
    "# make this into a list of tuples\n",
    "freq_pairs = [tuple(x) for x in freq_pairs]"
   ]
  },
  {
   "cell_type": "code",
   "execution_count": null,
   "metadata": {},
   "outputs": [
    {
     "ename": "IndexError",
     "evalue": "index 2011 is out of bounds for axis 0 with size 1965",
     "output_type": "error",
     "traceback": [
      "\u001b[0;31m---------------------------------------------------------------------------\u001b[0m",
      "\u001b[0;31mIndexError\u001b[0m                                Traceback (most recent call last)",
      "Cell \u001b[0;32mIn[58], line 5\u001b[0m\n\u001b[1;32m      2\u001b[0m pair_support \u001b[38;5;241m=\u001b[39m pair_mat_hashed[pair_indices] \u001b[38;5;241m/\u001b[39m \u001b[38;5;28mlen\u001b[39m(baskets)\n\u001b[1;32m      4\u001b[0m \u001b[38;5;66;03m# also calculate the confidence of each frequent pair (confidence = support(pair) / support(item1))\u001b[39;00m\n\u001b[0;32m----> 5\u001b[0m pair_confidence \u001b[38;5;241m=\u001b[39m pair_support \u001b[38;5;241m/\u001b[39m (\u001b[43mfreq_items\u001b[49m\u001b[43m[\u001b[49m\u001b[43mfreq_pairs\u001b[49m\u001b[43m]\u001b[49m \u001b[38;5;241m/\u001b[39m \u001b[38;5;28mlen\u001b[39m(baskets))\n",
      "\u001b[0;31mIndexError\u001b[0m: index 2011 is out of bounds for axis 0 with size 1965"
     ]
    }
   ],
   "source": [
    "# calculate the support of each frequent pair\n",
    "pair_support = pair_mat_hashed[pair_indices] / len(baskets)\n",
    "\n",
    "# also calculate the confidence of each frequent pair (confidence = support(pair) / support(item1))\n"
   ]
  },
  {
   "cell_type": "code",
   "execution_count": 59,
   "metadata": {},
   "outputs": [
    {
     "data": {
      "text/html": [
       "<div>\n",
       "<style scoped>\n",
       "    .dataframe tbody tr th:only-of-type {\n",
       "        vertical-align: middle;\n",
       "    }\n",
       "\n",
       "    .dataframe tbody tr th {\n",
       "        vertical-align: top;\n",
       "    }\n",
       "\n",
       "    .dataframe thead th {\n",
       "        text-align: right;\n",
       "    }\n",
       "</style>\n",
       "<table border=\"1\" class=\"dataframe\">\n",
       "  <thead>\n",
       "    <tr style=\"text-align: right;\">\n",
       "      <th></th>\n",
       "      <th>support</th>\n",
       "      <th>itemsets</th>\n",
       "    </tr>\n",
       "  </thead>\n",
       "  <tbody>\n",
       "    <tr>\n",
       "      <th>0</th>\n",
       "      <td>0.068690</td>\n",
       "      <td>(32, 1)</td>\n",
       "    </tr>\n",
       "    <tr>\n",
       "      <th>1</th>\n",
       "      <td>0.079522</td>\n",
       "      <td>(1, 47)</td>\n",
       "    </tr>\n",
       "    <tr>\n",
       "      <th>2</th>\n",
       "      <td>0.054937</td>\n",
       "      <td>(6, 47)</td>\n",
       "    </tr>\n",
       "    <tr>\n",
       "      <th>3</th>\n",
       "      <td>0.096455</td>\n",
       "      <td>(32, 47)</td>\n",
       "    </tr>\n",
       "    <tr>\n",
       "      <th>4</th>\n",
       "      <td>0.086266</td>\n",
       "      <td>(1, 50)</td>\n",
       "    </tr>\n",
       "  </tbody>\n",
       "</table>\n",
       "</div>"
      ],
      "text/plain": [
       "    support  itemsets\n",
       "0  0.068690   (32, 1)\n",
       "1  0.079522   (1, 47)\n",
       "2  0.054937   (6, 47)\n",
       "3  0.096455  (32, 47)\n",
       "4  0.086266   (1, 50)"
      ]
     },
     "execution_count": 59,
     "metadata": {},
     "output_type": "execute_result"
    }
   ],
   "source": [
    "# create a DataFrame to store the frequent pairs and their support\n",
    "df_freq_pairs = pd.DataFrame(freq_pairs, columns=['item1', 'item2'])\n",
    "df_freq_pairs['support'] = pair_support.flatten()\n",
    "\n",
    "# make one column called itemsets that contains the frequent pairs as tuples (frozen sets)\n",
    "df_freq_pairs['itemsets'] = df_freq_pairs[['item1', 'item2']].apply(lambda x: frozenset(x), axis=1)\n",
    "\n",
    "# drop the item1 and item2 columns\n",
    "df_freq_pairs = df_freq_pairs.drop(['item1', 'item2'], axis=1)\n",
    "\n",
    "df_freq_pairs.head()\n"
   ]
  },
  {
   "cell_type": "code",
   "execution_count": 33,
   "metadata": {},
   "outputs": [],
   "source": [
    "### ASSOCIATION RULE MINING WITH APRIORI ###\n",
    "from mlxtend.preprocessing import TransactionEncoder\n",
    "from mlxtend.frequent_patterns import apriori, association_rules"
   ]
  },
  {
   "cell_type": "code",
   "execution_count": 35,
   "metadata": {},
   "outputs": [],
   "source": [
    "df_subset = liked_movies\n",
    "transactions = df_subset.groupby('userId')['movieId'].apply(list).values\n",
    "\n",
    "# Use TransactionEncoder to convert the data into a binary matrix\n",
    "te = TransactionEncoder()\n",
    "te_ary = te.fit(transactions).transform(transactions)\n",
    "binary_df = pd.DataFrame(te_ary, columns=te.columns_)"
   ]
  },
  {
   "cell_type": "code",
   "execution_count": 41,
   "metadata": {},
   "outputs": [
    {
     "name": "stdout",
     "output_type": "stream",
     "text": [
      "Frequent Itemsets (with more than one element):\n",
      "      support                   itemsets\n",
      "0    0.226896                        (1)\n",
      "1    0.184765                       (32)\n",
      "2    0.237977                       (47)\n",
      "3    0.276030                       (50)\n",
      "4    0.239422                      (110)\n",
      "..        ...                        ...\n",
      "394  0.114151    (5952, 4993, 260, 7153)\n",
      "395  0.103812    (296, 4993, 5952, 7153)\n",
      "396  0.110781   (5952, 4993, 1196, 7153)\n",
      "397  0.140620   (5952, 7153, 4993, 2571)\n",
      "398  0.105966  (5952, 4993, 7153, 58559)\n",
      "\n",
      "[399 rows x 2 columns]\n"
     ]
    }
   ],
   "source": [
    "# frequent itemsets\n",
    "min_support = 0.1\n",
    "frequent_itemsets = apriori(binary_df, min_support=min_support, use_colnames=True)\n",
    "print(\"Frequent Itemsets (with more than one element):\")\n",
    "print(frequent_itemsets)"
   ]
  },
  {
   "cell_type": "markdown",
   "metadata": {},
   "source": [
    "# Generating association rules for movies"
   ]
  },
  {
   "cell_type": "code",
   "execution_count": null,
   "metadata": {},
   "outputs": [
    {
     "name": "stderr",
     "output_type": "stream",
     "text": [
      "/opt/miniconda3/envs/comp/lib/python3.12/site-packages/mlxtend/frequent_patterns/association_rules.py:172: RuntimeWarning: divide by zero encountered in divide\n",
      "  jaccard_metric = numerator / denominator\n"
     ]
    }
   ],
   "source": [
    "# Generate association rules \n",
    "rules_apriori = association_rules(frequent_itemsets, metric=\"confidence\", min_threshold=0.5, num_itemsets=len(transactions))"
   ]
  },
  {
   "cell_type": "code",
   "execution_count": 50,
   "metadata": {},
   "outputs": [
    {
     "data": {
      "text/html": [
       "<div>\n",
       "<style scoped>\n",
       "    .dataframe tbody tr th:only-of-type {\n",
       "        vertical-align: middle;\n",
       "    }\n",
       "\n",
       "    .dataframe tbody tr th {\n",
       "        vertical-align: top;\n",
       "    }\n",
       "\n",
       "    .dataframe thead th {\n",
       "        text-align: right;\n",
       "    }\n",
       "</style>\n",
       "<table border=\"1\" class=\"dataframe\">\n",
       "  <thead>\n",
       "    <tr style=\"text-align: right;\">\n",
       "      <th></th>\n",
       "      <th>antecedents</th>\n",
       "      <th>consequents</th>\n",
       "      <th>antecedent support</th>\n",
       "      <th>consequent support</th>\n",
       "      <th>support</th>\n",
       "      <th>confidence</th>\n",
       "      <th>lift</th>\n",
       "      <th>representativity</th>\n",
       "      <th>leverage</th>\n",
       "      <th>conviction</th>\n",
       "      <th>zhangs_metric</th>\n",
       "      <th>jaccard</th>\n",
       "      <th>certainty</th>\n",
       "      <th>kulczynski</th>\n",
       "    </tr>\n",
       "  </thead>\n",
       "  <tbody>\n",
       "    <tr>\n",
       "      <th>0</th>\n",
       "      <td>(1)</td>\n",
       "      <td>(260)</td>\n",
       "      <td>0.226896</td>\n",
       "      <td>0.318321</td>\n",
       "      <td>0.120332</td>\n",
       "      <td>0.530340</td>\n",
       "      <td>1.666053</td>\n",
       "      <td>1.0</td>\n",
       "      <td>0.048106</td>\n",
       "      <td>1.451430</td>\n",
       "      <td>0.517109</td>\n",
       "      <td>0.283210</td>\n",
       "      <td>0.311024</td>\n",
       "      <td>0.454180</td>\n",
       "    </tr>\n",
       "    <tr>\n",
       "      <th>1</th>\n",
       "      <td>(32)</td>\n",
       "      <td>(296)</td>\n",
       "      <td>0.184765</td>\n",
       "      <td>0.385710</td>\n",
       "      <td>0.122724</td>\n",
       "      <td>0.664221</td>\n",
       "      <td>1.722074</td>\n",
       "      <td>1.0</td>\n",
       "      <td>0.051459</td>\n",
       "      <td>1.829446</td>\n",
       "      <td>0.514336</td>\n",
       "      <td>0.274092</td>\n",
       "      <td>0.453386</td>\n",
       "      <td>0.491199</td>\n",
       "    </tr>\n",
       "    <tr>\n",
       "      <th>2</th>\n",
       "      <td>(32)</td>\n",
       "      <td>(593)</td>\n",
       "      <td>0.184765</td>\n",
       "      <td>0.351689</td>\n",
       "      <td>0.104984</td>\n",
       "      <td>0.568203</td>\n",
       "      <td>1.615640</td>\n",
       "      <td>1.0</td>\n",
       "      <td>0.040004</td>\n",
       "      <td>1.501425</td>\n",
       "      <td>0.467411</td>\n",
       "      <td>0.243317</td>\n",
       "      <td>0.333966</td>\n",
       "      <td>0.433358</td>\n",
       "    </tr>\n",
       "    <tr>\n",
       "      <th>3</th>\n",
       "      <td>(47)</td>\n",
       "      <td>(50)</td>\n",
       "      <td>0.237977</td>\n",
       "      <td>0.276030</td>\n",
       "      <td>0.135675</td>\n",
       "      <td>0.570118</td>\n",
       "      <td>2.065418</td>\n",
       "      <td>1.0</td>\n",
       "      <td>0.069986</td>\n",
       "      <td>1.684112</td>\n",
       "      <td>0.676930</td>\n",
       "      <td>0.358613</td>\n",
       "      <td>0.406215</td>\n",
       "      <td>0.530820</td>\n",
       "    </tr>\n",
       "    <tr>\n",
       "      <th>4</th>\n",
       "      <td>(47)</td>\n",
       "      <td>(296)</td>\n",
       "      <td>0.237977</td>\n",
       "      <td>0.385710</td>\n",
       "      <td>0.169586</td>\n",
       "      <td>0.712616</td>\n",
       "      <td>1.847545</td>\n",
       "      <td>1.0</td>\n",
       "      <td>0.077796</td>\n",
       "      <td>2.137524</td>\n",
       "      <td>0.602004</td>\n",
       "      <td>0.373455</td>\n",
       "      <td>0.532169</td>\n",
       "      <td>0.576144</td>\n",
       "    </tr>\n",
       "    <tr>\n",
       "      <th>...</th>\n",
       "      <td>...</td>\n",
       "      <td>...</td>\n",
       "      <td>...</td>\n",
       "      <td>...</td>\n",
       "      <td>...</td>\n",
       "      <td>...</td>\n",
       "      <td>...</td>\n",
       "      <td>...</td>\n",
       "      <td>...</td>\n",
       "      <td>...</td>\n",
       "      <td>...</td>\n",
       "      <td>...</td>\n",
       "      <td>...</td>\n",
       "      <td>...</td>\n",
       "    </tr>\n",
       "    <tr>\n",
       "      <th>502</th>\n",
       "      <td>(5952, 7153, 58559)</td>\n",
       "      <td>(4993)</td>\n",
       "      <td>0.111753</td>\n",
       "      <td>0.272137</td>\n",
       "      <td>0.105966</td>\n",
       "      <td>0.948214</td>\n",
       "      <td>3.484321</td>\n",
       "      <td>1.0</td>\n",
       "      <td>0.075554</td>\n",
       "      <td>14.055086</td>\n",
       "      <td>0.802705</td>\n",
       "      <td>0.381275</td>\n",
       "      <td>0.928851</td>\n",
       "      <td>0.668799</td>\n",
       "    </tr>\n",
       "    <tr>\n",
       "      <th>503</th>\n",
       "      <td>(4993, 7153, 58559)</td>\n",
       "      <td>(5952)</td>\n",
       "      <td>0.114624</td>\n",
       "      <td>0.248544</td>\n",
       "      <td>0.105966</td>\n",
       "      <td>0.924462</td>\n",
       "      <td>3.719503</td>\n",
       "      <td>1.0</td>\n",
       "      <td>0.077477</td>\n",
       "      <td>9.948025</td>\n",
       "      <td>0.825804</td>\n",
       "      <td>0.411993</td>\n",
       "      <td>0.899478</td>\n",
       "      <td>0.675404</td>\n",
       "    </tr>\n",
       "    <tr>\n",
       "      <th>504</th>\n",
       "      <td>(5952, 58559)</td>\n",
       "      <td>(4993, 7153)</td>\n",
       "      <td>0.119878</td>\n",
       "      <td>0.218078</td>\n",
       "      <td>0.105966</td>\n",
       "      <td>0.883945</td>\n",
       "      <td>4.053350</td>\n",
       "      <td>1.0</td>\n",
       "      <td>0.079823</td>\n",
       "      <td>6.737531</td>\n",
       "      <td>0.855893</td>\n",
       "      <td>0.456768</td>\n",
       "      <td>0.851578</td>\n",
       "      <td>0.684927</td>\n",
       "    </tr>\n",
       "    <tr>\n",
       "      <th>505</th>\n",
       "      <td>(4993, 58559)</td>\n",
       "      <td>(5952, 7153)</td>\n",
       "      <td>0.127161</td>\n",
       "      <td>0.212500</td>\n",
       "      <td>0.105966</td>\n",
       "      <td>0.833320</td>\n",
       "      <td>3.921512</td>\n",
       "      <td>1.0</td>\n",
       "      <td>0.078944</td>\n",
       "      <td>4.724631</td>\n",
       "      <td>0.853532</td>\n",
       "      <td>0.453436</td>\n",
       "      <td>0.788343</td>\n",
       "      <td>0.665992</td>\n",
       "    </tr>\n",
       "    <tr>\n",
       "      <th>506</th>\n",
       "      <td>(7153, 58559)</td>\n",
       "      <td>(5952, 4993)</td>\n",
       "      <td>0.127041</td>\n",
       "      <td>0.219982</td>\n",
       "      <td>0.105966</td>\n",
       "      <td>0.834105</td>\n",
       "      <td>3.791699</td>\n",
       "      <td>1.0</td>\n",
       "      <td>0.078019</td>\n",
       "      <td>4.701879</td>\n",
       "      <td>0.843414</td>\n",
       "      <td>0.439587</td>\n",
       "      <td>0.787319</td>\n",
       "      <td>0.657904</td>\n",
       "    </tr>\n",
       "  </tbody>\n",
       "</table>\n",
       "<p>507 rows × 14 columns</p>\n",
       "</div>"
      ],
      "text/plain": [
       "             antecedents   consequents  antecedent support  \\\n",
       "0                    (1)         (260)            0.226896   \n",
       "1                   (32)         (296)            0.184765   \n",
       "2                   (32)         (593)            0.184765   \n",
       "3                   (47)          (50)            0.237977   \n",
       "4                   (47)         (296)            0.237977   \n",
       "..                   ...           ...                 ...   \n",
       "502  (5952, 7153, 58559)        (4993)            0.111753   \n",
       "503  (4993, 7153, 58559)        (5952)            0.114624   \n",
       "504        (5952, 58559)  (4993, 7153)            0.119878   \n",
       "505        (4993, 58559)  (5952, 7153)            0.127161   \n",
       "506        (7153, 58559)  (5952, 4993)            0.127041   \n",
       "\n",
       "     consequent support   support  confidence      lift  representativity  \\\n",
       "0              0.318321  0.120332    0.530340  1.666053               1.0   \n",
       "1              0.385710  0.122724    0.664221  1.722074               1.0   \n",
       "2              0.351689  0.104984    0.568203  1.615640               1.0   \n",
       "3              0.276030  0.135675    0.570118  2.065418               1.0   \n",
       "4              0.385710  0.169586    0.712616  1.847545               1.0   \n",
       "..                  ...       ...         ...       ...               ...   \n",
       "502            0.272137  0.105966    0.948214  3.484321               1.0   \n",
       "503            0.248544  0.105966    0.924462  3.719503               1.0   \n",
       "504            0.218078  0.105966    0.883945  4.053350               1.0   \n",
       "505            0.212500  0.105966    0.833320  3.921512               1.0   \n",
       "506            0.219982  0.105966    0.834105  3.791699               1.0   \n",
       "\n",
       "     leverage  conviction  zhangs_metric   jaccard  certainty  kulczynski  \n",
       "0    0.048106    1.451430       0.517109  0.283210   0.311024    0.454180  \n",
       "1    0.051459    1.829446       0.514336  0.274092   0.453386    0.491199  \n",
       "2    0.040004    1.501425       0.467411  0.243317   0.333966    0.433358  \n",
       "3    0.069986    1.684112       0.676930  0.358613   0.406215    0.530820  \n",
       "4    0.077796    2.137524       0.602004  0.373455   0.532169    0.576144  \n",
       "..        ...         ...            ...       ...        ...         ...  \n",
       "502  0.075554   14.055086       0.802705  0.381275   0.928851    0.668799  \n",
       "503  0.077477    9.948025       0.825804  0.411993   0.899478    0.675404  \n",
       "504  0.079823    6.737531       0.855893  0.456768   0.851578    0.684927  \n",
       "505  0.078944    4.724631       0.853532  0.453436   0.788343    0.665992  \n",
       "506  0.078019    4.701879       0.843414  0.439587   0.787319    0.657904  \n",
       "\n",
       "[507 rows x 14 columns]"
      ]
     },
     "execution_count": 50,
     "metadata": {},
     "output_type": "execute_result"
    }
   ],
   "source": [
    "rules_apriori"
   ]
  },
  {
   "cell_type": "code",
   "execution_count": 61,
   "metadata": {},
   "outputs": [
    {
     "data": {
      "text/plain": [
       "507"
      ]
     },
     "execution_count": 61,
     "metadata": {},
     "output_type": "execute_result"
    }
   ],
   "source": [
    "len(rules_apriori)"
   ]
  },
  {
   "cell_type": "code",
   "execution_count": null,
   "metadata": {},
   "outputs": [],
   "source": []
  }
 ],
 "metadata": {
  "kernelspec": {
   "display_name": "comp",
   "language": "python",
   "name": "python3"
  },
  "language_info": {
   "codemirror_mode": {
    "name": "ipython",
    "version": 3
   },
   "file_extension": ".py",
   "mimetype": "text/x-python",
   "name": "python",
   "nbconvert_exporter": "python",
   "pygments_lexer": "ipython3",
   "version": "3.12.7"
  }
 },
 "nbformat": 4,
 "nbformat_minor": 2
}
