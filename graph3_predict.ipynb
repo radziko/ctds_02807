{
 "cells": [
  {
   "cell_type": "code",
   "execution_count": 38,
   "metadata": {},
   "outputs": [],
   "source": [
    "import networkx as nx\n",
    "import pandas as pd\n",
    "import pickle\n",
    "import numpy as np\n",
    "from collections import defaultdict, Counter\n",
    "from collections import Counter"
   ]
  },
  {
   "cell_type": "code",
   "execution_count": 39,
   "metadata": {},
   "outputs": [],
   "source": [
    "# with open('data/movie_graph.pickle', 'rb') as f:\n",
    "#     G = pickle.load(f)\n",
    "\n",
    "# Create a new graph\n",
    "\n",
    "G = nx.Graph()\n",
    "\n",
    "edges = [\n",
    "    (1, 4, 10),\n",
    "    (1, 2, 6),\n",
    "    (1, 3, 5),\n",
    "    (1, 5, 11),\n",
    "    (2, 3, 15),\n",
    "    (2, 4, 4),\n",
    "    (3, 4, 8),\n",
    "    (3, 5, 9),\n",
    "    (4, 5, 7)\n",
    "]\n",
    "\n",
    "G.add_weighted_edges_from(edges)"
   ]
  },
  {
   "cell_type": "code",
   "execution_count": null,
   "metadata": {},
   "outputs": [
    {
     "name": "stdout",
     "output_type": "stream",
     "text": [
      "[4, 3, 2]\n"
     ]
    }
   ],
   "source": [
    "def predict_movies(G: nx.Graph, user_watched_movies: list[int], weighted: bool = True):\n",
    "    \"\"\"\n",
    "    Predicts movies for a user based on their watched movies and a graph of movie relationships.\n",
    "\n",
    "    Args:\n",
    "        G: Graph representing movie relationships. Each edge can have a weight.\n",
    "        user_watched_movies: List of movies watched by the user.\n",
    "        weighted: Boolean indicating whether predictions should consider edge weights.\n",
    "\n",
    "    Returns:\n",
    "        A sorted list of recommended movie IDs based on their predicted relevance.\n",
    "    \"\"\"\n",
    "    # Use a single dictionary for neighbor counts or weights\n",
    "    recommendations = defaultdict(float)\n",
    "\n",
    "    # Iterate over each watched movie and process its neighbors\n",
    "    for movie in user_watched_movies:\n",
    "        for neighbor, edge_attrs in G.adj[movie].items():\n",
    "            if neighbor not in user_watched_movies:\n",
    "                weight = edge_attrs.get(\"weight\", 1)\n",
    "                recommendations[neighbor] += weight if weighted else 1\n",
    "\n",
    "    # Convert recommendations to a DataFrame and sort by the chosen metric\n",
    "    metric = \"weight\" if weighted else \"count\"\n",
    "    predictions = (\n",
    "        pd.DataFrame.from_dict(recommendations, orient=\"index\")\n",
    "        .reset_index()\n",
    "        .rename(columns={\"index\": \"movieId\", 0: metric})\n",
    "        .sort_values(by=metric, ascending=False)\n",
    "    )\n",
    "\n",
    "    return predictions[\"movieId\"].tolist()"
   ]
  }
 ],
 "metadata": {
  "kernelspec": {
   "display_name": ".venv",
   "language": "python",
   "name": "python3"
  },
  "language_info": {
   "codemirror_mode": {
    "name": "ipython",
    "version": 3
   },
   "file_extension": ".py",
   "mimetype": "text/x-python",
   "name": "python",
   "nbconvert_exporter": "python",
   "pygments_lexer": "ipython3",
   "version": "3.11.10"
  }
 },
 "nbformat": 4,
 "nbformat_minor": 2
}
