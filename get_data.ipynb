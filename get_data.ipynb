{
 "cells": [
  {
   "cell_type": "code",
   "execution_count": 1,
   "metadata": {},
   "outputs": [],
   "source": [
    "#!pip install kagglehub\n",
    "import kagglehub\n",
    "import os\n",
    "import shutil\n",
    "from urllib.request import urlretrieve\n",
    "import numpy as np\n",
    "import pandas as pd\n"
   ]
  },
  {
   "cell_type": "markdown",
   "metadata": {},
   "source": [
    "## Download and unpack data properly"
   ]
  },
  {
   "cell_type": "code",
   "execution_count": 2,
   "metadata": {},
   "outputs": [],
   "source": [
    "def download_movielens():\n",
    "    permalink = \"https://files.grouplens.org/datasets/movielens/ml-32m.zip\"\n",
    "\n",
    "    # Download the dataset\n",
    "    urlretrieve(permalink, \"movielens.zip\")\n",
    "\n",
    "    # Unzip the dataset\n",
    "    shutil.unpack_archive(\"movielens.zip\", \"data/\")\n",
    "\n",
    "    os.remove(\"movielens.zip\")\n",
    "\n",
    "def download_imdb():\n",
    "    path = kagglehub.dataset_download(\"ashishjangra27/imdb-movies-dataset\")\n",
    "    shutil.move(path, \"data/imdb/\")\n",
    "\n",
    "#download_movielens()\n",
    "#download_imdb()"
   ]
  },
  {
   "cell_type": "markdown",
   "metadata": {},
   "source": [
    "## Load data and merge dataframes"
   ]
  },
  {
   "cell_type": "code",
   "execution_count": 3,
   "metadata": {},
   "outputs": [
    {
     "name": "stderr",
     "output_type": "stream",
     "text": [
      "C:\\Users\\juliu\\AppData\\Local\\Temp\\ipykernel_10188\\683732697.py:15: DtypeWarning: Columns (7,8) have mixed types. Specify dtype option on import or set low_memory=False.\n",
      "  imdb = pd.read_csv('data/imdb/movies.csv')\n"
     ]
    }
   ],
   "source": [
    "def load_data():\n",
    "    # Contains movieId, title, genres   \n",
    "    ml_movies = pd.read_csv('data/ml-32m/movies.csv')\n",
    "    \n",
    "    # Contains userId, movieId, rating, timestamp\n",
    "    ml_ratings = pd.read_csv('data/ml-32m/ratings.csv')\n",
    "    \n",
    "    # Contains userId, movieId, tag, timestamp\n",
    "    ml_tags = pd.read_csv('data/ml-32m/tags.csv')\n",
    "\n",
    "    # Contains movieId, imdbId, tmdbId\n",
    "    ml_links = pd.read_csv('data/ml-32m/links.csv')\n",
    "\n",
    "    # IMDB Dataset:\n",
    "    imdb = pd.read_csv('data/imdb/movies.csv')\n",
    "\n",
    "    return ml_movies, ml_ratings, ml_tags, ml_links, imdb\n",
    "\n",
    "ml_movies, ml_ratings, ml_tags, ml_links, imdb = load_data()"
   ]
  },
  {
   "cell_type": "code",
   "execution_count": 4,
   "metadata": {},
   "outputs": [
    {
     "name": "stderr",
     "output_type": "stream",
     "text": [
      "C:\\Users\\juliu\\AppData\\Local\\Temp\\ipykernel_10188\\493108502.py:6: SettingWithCopyWarning: \n",
      "A value is trying to be set on a copy of a slice from a DataFrame.\n",
      "Try using .loc[row_indexer,col_indexer] = value instead\n",
      "\n",
      "See the caveats in the documentation: https://pandas.pydata.org/pandas-docs/stable/user_guide/indexing.html#returning-a-view-versus-a-copy\n",
      "  imdb_descriptions['id'] = imdb_descriptions['id'].str[2:]\n",
      "C:\\Users\\juliu\\AppData\\Local\\Temp\\ipykernel_10188\\493108502.py:7: SettingWithCopyWarning: \n",
      "A value is trying to be set on a copy of a slice from a DataFrame.\n",
      "Try using .loc[row_indexer,col_indexer] = value instead\n",
      "\n",
      "See the caveats in the documentation: https://pandas.pydata.org/pandas-docs/stable/user_guide/indexing.html#returning-a-view-versus-a-copy\n",
      "  imdb_descriptions['id'] = pd.to_numeric(imdb_descriptions['id'], errors='coerce')\n"
     ]
    }
   ],
   "source": [
    "# Preprocessing IMDB:\n",
    "\n",
    "#drop if description is \"Add a plot\" because we have no description then\n",
    "imdb_descriptions = imdb[imdb['description'] != \"Add a Plot\"]\n",
    "\n",
    "imdb_descriptions['id'] = imdb_descriptions['id'].str[2:]\n",
    "imdb_descriptions['id'] = pd.to_numeric(imdb_descriptions['id'], errors='coerce')\n",
    "\n",
    "#keep what we need\n",
    "imdb_descriptions = imdb_descriptions[['id', 'description']]\n",
    "\n",
    "#merge them, so we have a li nk between the two datasets\n",
    "merged_links = ml_links.merge(imdb_descriptions, left_on='imdbId', right_on='id', how='inner').dropna(subset=['id'])"
   ]
  },
  {
   "cell_type": "code",
   "execution_count": 21,
   "metadata": {},
   "outputs": [
    {
     "data": {
      "text/html": [
       "<div>\n",
       "<style scoped>\n",
       "    .dataframe tbody tr th:only-of-type {\n",
       "        vertical-align: middle;\n",
       "    }\n",
       "\n",
       "    .dataframe tbody tr th {\n",
       "        vertical-align: top;\n",
       "    }\n",
       "\n",
       "    .dataframe thead th {\n",
       "        text-align: right;\n",
       "    }\n",
       "</style>\n",
       "<table border=\"1\" class=\"dataframe\">\n",
       "  <thead>\n",
       "    <tr style=\"text-align: right;\">\n",
       "      <th></th>\n",
       "      <th>movieId</th>\n",
       "      <th>title</th>\n",
       "      <th>genres</th>\n",
       "      <th>imdbId</th>\n",
       "      <th>tmdbId</th>\n",
       "      <th>id</th>\n",
       "      <th>description</th>\n",
       "    </tr>\n",
       "  </thead>\n",
       "  <tbody>\n",
       "    <tr>\n",
       "      <th>0</th>\n",
       "      <td>1</td>\n",
       "      <td>Toy Story (1995)</td>\n",
       "      <td>Adventure|Animation|Children|Comedy|Fantasy</td>\n",
       "      <td>114709</td>\n",
       "      <td>862.0</td>\n",
       "      <td>114709</td>\n",
       "      <td>A cowboy doll is profoundly threatened and jea...</td>\n",
       "    </tr>\n",
       "    <tr>\n",
       "      <th>1</th>\n",
       "      <td>2</td>\n",
       "      <td>Jumanji (1995)</td>\n",
       "      <td>Adventure|Children|Fantasy</td>\n",
       "      <td>113497</td>\n",
       "      <td>8844.0</td>\n",
       "      <td>113497</td>\n",
       "      <td>When two kids find and play a magical board ga...</td>\n",
       "    </tr>\n",
       "    <tr>\n",
       "      <th>2</th>\n",
       "      <td>6</td>\n",
       "      <td>Heat (1995)</td>\n",
       "      <td>Action|Crime|Thriller</td>\n",
       "      <td>113277</td>\n",
       "      <td>949.0</td>\n",
       "      <td>113277</td>\n",
       "      <td>A group of high-end professional thieves start...</td>\n",
       "    </tr>\n",
       "    <tr>\n",
       "      <th>3</th>\n",
       "      <td>8</td>\n",
       "      <td>Tom and Huck (1995)</td>\n",
       "      <td>Adventure|Children</td>\n",
       "      <td>112302</td>\n",
       "      <td>45325.0</td>\n",
       "      <td>112302</td>\n",
       "      <td>Two best friends witness a murder and embark o...</td>\n",
       "    </tr>\n",
       "    <tr>\n",
       "      <th>4</th>\n",
       "      <td>9</td>\n",
       "      <td>Sudden Death (1995)</td>\n",
       "      <td>Action</td>\n",
       "      <td>114576</td>\n",
       "      <td>9091.0</td>\n",
       "      <td>114576</td>\n",
       "      <td>A former fireman takes on a group of terrorist...</td>\n",
       "    </tr>\n",
       "    <tr>\n",
       "      <th>...</th>\n",
       "      <td>...</td>\n",
       "      <td>...</td>\n",
       "      <td>...</td>\n",
       "      <td>...</td>\n",
       "      <td>...</td>\n",
       "      <td>...</td>\n",
       "      <td>...</td>\n",
       "    </tr>\n",
       "    <tr>\n",
       "      <th>51855</th>\n",
       "      <td>292541</td>\n",
       "      <td>The Settlers (2023)</td>\n",
       "      <td>Drama|Western</td>\n",
       "      <td>10370812</td>\n",
       "      <td>989589.0</td>\n",
       "      <td>10370812</td>\n",
       "      <td>A mixed-race Chilean, rides south on an expedi...</td>\n",
       "    </tr>\n",
       "    <tr>\n",
       "      <th>51856</th>\n",
       "      <td>292585</td>\n",
       "      <td>Night Crawlers (2009)</td>\n",
       "      <td>Comedy|Horror</td>\n",
       "      <td>985060</td>\n",
       "      <td>147230.0</td>\n",
       "      <td>985060</td>\n",
       "      <td>Blood is thicker than water in this tiny Texas...</td>\n",
       "    </tr>\n",
       "    <tr>\n",
       "      <th>51857</th>\n",
       "      <td>292605</td>\n",
       "      <td>Our River... Our Sky (2023)</td>\n",
       "      <td>Drama|War</td>\n",
       "      <td>10676126</td>\n",
       "      <td>855800.0</td>\n",
       "      <td>10676126</td>\n",
       "      <td>Baghdad. The last week of 2006. All over the c...</td>\n",
       "    </tr>\n",
       "    <tr>\n",
       "      <th>51858</th>\n",
       "      <td>292613</td>\n",
       "      <td>Freelance (2023)</td>\n",
       "      <td>Action|Comedy</td>\n",
       "      <td>15744298</td>\n",
       "      <td>897087.0</td>\n",
       "      <td>15744298</td>\n",
       "      <td>An ex special forces operator takes a job to p...</td>\n",
       "    </tr>\n",
       "    <tr>\n",
       "      <th>51859</th>\n",
       "      <td>292627</td>\n",
       "      <td>All Fun and Games (2023)</td>\n",
       "      <td>Horror|Thriller</td>\n",
       "      <td>10092698</td>\n",
       "      <td>926599.0</td>\n",
       "      <td>10092698</td>\n",
       "      <td>There's a strange element of cruelty that's em...</td>\n",
       "    </tr>\n",
       "  </tbody>\n",
       "</table>\n",
       "<p>51860 rows × 7 columns</p>\n",
       "</div>"
      ],
      "text/plain": [
       "       movieId                        title  \\\n",
       "0            1             Toy Story (1995)   \n",
       "1            2               Jumanji (1995)   \n",
       "2            6                  Heat (1995)   \n",
       "3            8          Tom and Huck (1995)   \n",
       "4            9          Sudden Death (1995)   \n",
       "...        ...                          ...   \n",
       "51855   292541          The Settlers (2023)   \n",
       "51856   292585        Night Crawlers (2009)   \n",
       "51857   292605  Our River... Our Sky (2023)   \n",
       "51858   292613             Freelance (2023)   \n",
       "51859   292627     All Fun and Games (2023)   \n",
       "\n",
       "                                            genres    imdbId    tmdbId  \\\n",
       "0      Adventure|Animation|Children|Comedy|Fantasy    114709     862.0   \n",
       "1                       Adventure|Children|Fantasy    113497    8844.0   \n",
       "2                            Action|Crime|Thriller    113277     949.0   \n",
       "3                               Adventure|Children    112302   45325.0   \n",
       "4                                           Action    114576    9091.0   \n",
       "...                                            ...       ...       ...   \n",
       "51855                                Drama|Western  10370812  989589.0   \n",
       "51856                                Comedy|Horror    985060  147230.0   \n",
       "51857                                    Drama|War  10676126  855800.0   \n",
       "51858                                Action|Comedy  15744298  897087.0   \n",
       "51859                              Horror|Thriller  10092698  926599.0   \n",
       "\n",
       "             id                                        description  \n",
       "0        114709  A cowboy doll is profoundly threatened and jea...  \n",
       "1        113497  When two kids find and play a magical board ga...  \n",
       "2        113277  A group of high-end professional thieves start...  \n",
       "3        112302  Two best friends witness a murder and embark o...  \n",
       "4        114576  A former fireman takes on a group of terrorist...  \n",
       "...         ...                                                ...  \n",
       "51855  10370812  A mixed-race Chilean, rides south on an expedi...  \n",
       "51856    985060  Blood is thicker than water in this tiny Texas...  \n",
       "51857  10676126  Baghdad. The last week of 2006. All over the c...  \n",
       "51858  15744298  An ex special forces operator takes a job to p...  \n",
       "51859  10092698  There's a strange element of cruelty that's em...  \n",
       "\n",
       "[51860 rows x 7 columns]"
      ]
     },
     "execution_count": 21,
     "metadata": {},
     "output_type": "execute_result"
    }
   ],
   "source": [
    "#merge the movies with the descriptions if that is what we want\n",
    "ml_movies_description = ml_movies.merge(merged_links, left_on='movieId', right_on='movieId', how='inner')\n",
    "\n",
    "ml_movies_description\n",
    "#ml_movies_description.to_csv('data/movies_with_description.csv', index=False)"
   ]
  },
  {
   "cell_type": "markdown",
   "metadata": {},
   "source": [
    "## Data visualization"
   ]
  },
  {
   "cell_type": "code",
   "execution_count": 52,
   "metadata": {},
   "outputs": [],
   "source": [
    "import matplotlib.pyplot as plt\n",
    "import seaborn as sns\n",
    "sns.set_theme()"
   ]
  },
  {
   "cell_type": "code",
   "execution_count": 6,
   "metadata": {},
   "outputs": [
    {
     "data": {
      "text/html": [
       "<div>\n",
       "<style scoped>\n",
       "    .dataframe tbody tr th:only-of-type {\n",
       "        vertical-align: middle;\n",
       "    }\n",
       "\n",
       "    .dataframe tbody tr th {\n",
       "        vertical-align: top;\n",
       "    }\n",
       "\n",
       "    .dataframe thead th {\n",
       "        text-align: right;\n",
       "    }\n",
       "</style>\n",
       "<table border=\"1\" class=\"dataframe\">\n",
       "  <thead>\n",
       "    <tr style=\"text-align: right;\">\n",
       "      <th></th>\n",
       "      <th>userId</th>\n",
       "      <th>movieId</th>\n",
       "      <th>rating</th>\n",
       "      <th>timestamp</th>\n",
       "    </tr>\n",
       "  </thead>\n",
       "  <tbody>\n",
       "    <tr>\n",
       "      <th>0</th>\n",
       "      <td>1</td>\n",
       "      <td>17</td>\n",
       "      <td>4.0</td>\n",
       "      <td>944249077</td>\n",
       "    </tr>\n",
       "    <tr>\n",
       "      <th>1</th>\n",
       "      <td>1</td>\n",
       "      <td>25</td>\n",
       "      <td>1.0</td>\n",
       "      <td>944250228</td>\n",
       "    </tr>\n",
       "    <tr>\n",
       "      <th>2</th>\n",
       "      <td>1</td>\n",
       "      <td>29</td>\n",
       "      <td>2.0</td>\n",
       "      <td>943230976</td>\n",
       "    </tr>\n",
       "    <tr>\n",
       "      <th>3</th>\n",
       "      <td>1</td>\n",
       "      <td>30</td>\n",
       "      <td>5.0</td>\n",
       "      <td>944249077</td>\n",
       "    </tr>\n",
       "    <tr>\n",
       "      <th>4</th>\n",
       "      <td>1</td>\n",
       "      <td>32</td>\n",
       "      <td>5.0</td>\n",
       "      <td>943228858</td>\n",
       "    </tr>\n",
       "    <tr>\n",
       "      <th>...</th>\n",
       "      <td>...</td>\n",
       "      <td>...</td>\n",
       "      <td>...</td>\n",
       "      <td>...</td>\n",
       "    </tr>\n",
       "    <tr>\n",
       "      <th>32000199</th>\n",
       "      <td>200948</td>\n",
       "      <td>79702</td>\n",
       "      <td>4.5</td>\n",
       "      <td>1294412589</td>\n",
       "    </tr>\n",
       "    <tr>\n",
       "      <th>32000200</th>\n",
       "      <td>200948</td>\n",
       "      <td>79796</td>\n",
       "      <td>1.0</td>\n",
       "      <td>1287216292</td>\n",
       "    </tr>\n",
       "    <tr>\n",
       "      <th>32000201</th>\n",
       "      <td>200948</td>\n",
       "      <td>80350</td>\n",
       "      <td>0.5</td>\n",
       "      <td>1294412671</td>\n",
       "    </tr>\n",
       "    <tr>\n",
       "      <th>32000202</th>\n",
       "      <td>200948</td>\n",
       "      <td>80463</td>\n",
       "      <td>3.5</td>\n",
       "      <td>1350423800</td>\n",
       "    </tr>\n",
       "    <tr>\n",
       "      <th>32000203</th>\n",
       "      <td>200948</td>\n",
       "      <td>87304</td>\n",
       "      <td>4.5</td>\n",
       "      <td>1350423523</td>\n",
       "    </tr>\n",
       "  </tbody>\n",
       "</table>\n",
       "<p>32000204 rows × 4 columns</p>\n",
       "</div>"
      ],
      "text/plain": [
       "          userId  movieId  rating   timestamp\n",
       "0              1       17     4.0   944249077\n",
       "1              1       25     1.0   944250228\n",
       "2              1       29     2.0   943230976\n",
       "3              1       30     5.0   944249077\n",
       "4              1       32     5.0   943228858\n",
       "...          ...      ...     ...         ...\n",
       "32000199  200948    79702     4.5  1294412589\n",
       "32000200  200948    79796     1.0  1287216292\n",
       "32000201  200948    80350     0.5  1294412671\n",
       "32000202  200948    80463     3.5  1350423800\n",
       "32000203  200948    87304     4.5  1350423523\n",
       "\n",
       "[32000204 rows x 4 columns]"
      ]
     },
     "execution_count": 6,
     "metadata": {},
     "output_type": "execute_result"
    }
   ],
   "source": [
    "ml_ratings"
   ]
  },
  {
   "cell_type": "code",
   "execution_count": 7,
   "metadata": {},
   "outputs": [
    {
     "name": "stdout",
     "output_type": "stream",
     "text": [
      "84432\n",
      "200948\n"
     ]
    }
   ],
   "source": [
    "#count unique movies, users\n",
    "print(ml_ratings['movieId'].nunique())\n",
    "print(ml_ratings['userId'].nunique())\n"
   ]
  },
  {
   "cell_type": "code",
   "execution_count": 8,
   "metadata": {},
   "outputs": [
    {
     "name": "stdout",
     "output_type": "stream",
     "text": [
      "2590932\n"
     ]
    }
   ],
   "source": [
    "#imdb unique movies\n",
    "print(imdb['id'].nunique())"
   ]
  },
  {
   "cell_type": "code",
   "execution_count": 24,
   "metadata": {},
   "outputs": [
    {
     "data": {
      "text/html": [
       "<div>\n",
       "<style scoped>\n",
       "    .dataframe tbody tr th:only-of-type {\n",
       "        vertical-align: middle;\n",
       "    }\n",
       "\n",
       "    .dataframe tbody tr th {\n",
       "        vertical-align: top;\n",
       "    }\n",
       "\n",
       "    .dataframe thead th {\n",
       "        text-align: right;\n",
       "    }\n",
       "</style>\n",
       "<table border=\"1\" class=\"dataframe\">\n",
       "  <thead>\n",
       "    <tr style=\"text-align: right;\">\n",
       "      <th></th>\n",
       "      <th>movieId</th>\n",
       "      <th>title</th>\n",
       "      <th>imdbId</th>\n",
       "      <th>tmdbId</th>\n",
       "      <th>id</th>\n",
       "      <th>description</th>\n",
       "      <th>(no genres listed)</th>\n",
       "      <th>Action</th>\n",
       "      <th>Adventure</th>\n",
       "      <th>Animation</th>\n",
       "      <th>...</th>\n",
       "      <th>Film-Noir</th>\n",
       "      <th>Horror</th>\n",
       "      <th>IMAX</th>\n",
       "      <th>Musical</th>\n",
       "      <th>Mystery</th>\n",
       "      <th>Romance</th>\n",
       "      <th>Sci-Fi</th>\n",
       "      <th>Thriller</th>\n",
       "      <th>War</th>\n",
       "      <th>Western</th>\n",
       "    </tr>\n",
       "  </thead>\n",
       "  <tbody>\n",
       "    <tr>\n",
       "      <th>0</th>\n",
       "      <td>1</td>\n",
       "      <td>Toy Story (1995)</td>\n",
       "      <td>114709</td>\n",
       "      <td>862.0</td>\n",
       "      <td>114709</td>\n",
       "      <td>A cowboy doll is profoundly threatened and jea...</td>\n",
       "      <td>0</td>\n",
       "      <td>0</td>\n",
       "      <td>1</td>\n",
       "      <td>1</td>\n",
       "      <td>...</td>\n",
       "      <td>0</td>\n",
       "      <td>0</td>\n",
       "      <td>0</td>\n",
       "      <td>0</td>\n",
       "      <td>0</td>\n",
       "      <td>0</td>\n",
       "      <td>0</td>\n",
       "      <td>0</td>\n",
       "      <td>0</td>\n",
       "      <td>0</td>\n",
       "    </tr>\n",
       "  </tbody>\n",
       "</table>\n",
       "<p>1 rows × 26 columns</p>\n",
       "</div>"
      ],
      "text/plain": [
       "   movieId             title  imdbId  tmdbId      id  \\\n",
       "0        1  Toy Story (1995)  114709   862.0  114709   \n",
       "\n",
       "                                         description  (no genres listed)  \\\n",
       "0  A cowboy doll is profoundly threatened and jea...                   0   \n",
       "\n",
       "   Action  Adventure  Animation  ...  Film-Noir  Horror  IMAX  Musical  \\\n",
       "0       0          1          1  ...          0       0     0        0   \n",
       "\n",
       "   Mystery  Romance  Sci-Fi  Thriller  War  Western  \n",
       "0        0        0       0         0    0        0  \n",
       "\n",
       "[1 rows x 26 columns]"
      ]
     },
     "execution_count": 24,
     "metadata": {},
     "output_type": "execute_result"
    }
   ],
   "source": [
    "genres = ml_movies_description['genres'].str.get_dummies()\n",
    "movies_dummies = pd.concat([ml_movies_description, genres], axis=1)\n",
    "movies_dummies.drop('genres', axis=1, inplace=True)\n",
    "movies_dummies.head(1)"
   ]
  },
  {
   "cell_type": "code",
   "execution_count": 25,
   "metadata": {},
   "outputs": [],
   "source": [
    "genre_counts = movies_dummies.drop(['movieId', 'title', 'imdbId','tmdbId', 'id', 'description'], axis=1).sum()"
   ]
  },
  {
   "cell_type": "code",
   "execution_count": 36,
   "metadata": {},
   "outputs": [],
   "source": [
    "sorted = genre_counts.sort_values(ascending=False)"
   ]
  },
  {
   "cell_type": "code",
   "execution_count": 54,
   "metadata": {},
   "outputs": [
    {
     "data": {
      "image/png": "[encoded data removed]",
      "text/plain": [
       "<Figure size 1000x500 with 1 Axes>"
      ]
     },
     "metadata": {},
     "output_type": "display_data"
    }
   ],
   "source": [
    "#barplot of genres\n",
    "\n",
    "plt.figure(figsize=(10, 5))\n",
    "sns.barplot(x=sorted.index, y=sorted.values, palette='viridis')\n",
    "plt.title('Genre Counts')\n",
    "plt.xticks(rotation=80)\n",
    "plt.tight_layout()\n",
    "#make it better for poster\n",
    "\n",
    "plt.savefig('figs/ml_genre_counts.png')\n",
    "plt.show()\n"
   ]
  },
  {
   "cell_type": "code",
   "execution_count": 67,
   "metadata": {},
   "outputs": [],
   "source": [
    "#merge the ratings with the movies\n",
    "ratings_with_description = ml_ratings.merge(ml_movies_description, left_on='movieId', right_on='movieId', how='inner')"
   ]
  },
  {
   "cell_type": "code",
   "execution_count": 68,
   "metadata": {},
   "outputs": [
    {
     "name": "stdout",
     "output_type": "stream",
     "text": [
      "49892\n",
      "200947\n",
      "25723135\n"
     ]
    }
   ],
   "source": [
    "# count unique movies, users, ratings\n",
    "print(ratings_with_description['movieId'].nunique())\n",
    "print(ratings_with_description['userId'].nunique())\n",
    "print(len(ratings_with_description))"
   ]
  },
  {
   "cell_type": "code",
   "execution_count": 69,
   "metadata": {},
   "outputs": [
    {
     "data": {
      "image/png": "[encoded data removed]",
      "text/plain": [
       "<Figure size 640x480 with 1 Axes>"
      ]
     },
     "metadata": {},
     "output_type": "display_data"
    }
   ],
   "source": [
    "#histogram over ratings\n",
    "\n",
    "plt.hist(ratings_with_description['rating'], bins=9)\n",
    "plt.xlabel('Rating')\n",
    "plt.ylabel('Frequency')\n",
    "plt.title('Histogram of ratings')\n",
    "plt.tight_layout()\n",
    "plt.savefig('figs/histogram_ratings.png')\n",
    "plt.show()\n"
   ]
  }
 ],
 "metadata": {
  "kernelspec": {
   "display_name": "sbert",
   "language": "python",
   "name": "python3"
  },
  "language_info": {
   "codemirror_mode": {
    "name": "ipython",
    "version": 3
   },
   "file_extension": ".py",
   "mimetype": "text/x-python",
   "name": "python",
   "nbconvert_exporter": "python",
   "pygments_lexer": "ipython3",
   "version": "3.10.13"
  }
 },
 "nbformat": 4,
 "nbformat_minor": 2
}
